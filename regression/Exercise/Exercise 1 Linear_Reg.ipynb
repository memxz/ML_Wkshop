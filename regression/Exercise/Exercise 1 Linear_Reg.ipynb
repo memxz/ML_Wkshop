{
 "cells": [
  {
   "cell_type": "markdown",
   "metadata": {},
   "source": [
    "# Linear Regression Example "
   ]
  },
  {
   "cell_type": "raw",
   "metadata": {},
   "source": [
    "In this example, we will build a linear regression with two independent variables.  This linear regression model is also called multiple linear regression.\n",
    "1) Load the dataset 'OmniPower.csv'\n",
    "2) Create a Linear Regression Model with two independent variables (Price and Promotion), one dependent variable (Sale)\n",
    "3) Provide input values and predict the Sale\n",
    "4) What is the R square value?"
   ]
  }
 ],
 "metadata": {
  "kernelspec": {
   "display_name": "Python 3",
   "language": "python",
   "name": "python3"
  },
  "language_info": {
   "codemirror_mode": {
    "name": "ipython",
    "version": 3
   },
   "file_extension": ".py",
   "mimetype": "text/x-python",
   "name": "python",
   "nbconvert_exporter": "python",
   "pygments_lexer": "ipython3",
   "version": "3.9.4"
  }
 },
 "nbformat": 4,
 "nbformat_minor": 2
}
