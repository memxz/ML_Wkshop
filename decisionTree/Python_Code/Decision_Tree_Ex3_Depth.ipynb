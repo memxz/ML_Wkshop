{
 "cells": [
  {
   "cell_type": "markdown",
   "metadata": {},
   "source": [
    "# Decision Tree Model\n",
    "\n",
    "Decision Trees are used for predict probability and classification. It's more intuitive than regression. We are going \n",
    "to use some sample data to illustrate this model.\n",
    "In this example, we specify the depth of the tree.  If the depth of the tree is too low, it may result in an underfit model."
   ]
  },
  {
   "cell_type": "code",
   "execution_count": null,
   "metadata": {},
   "outputs": [],
   "source": [
    "# import the things we need first\n",
    "import pandas as pd\n",
    "import numpy as np\n",
    "import matplotlib.pyplot as plt\n",
    "import sklearn"
   ]
  },
  {
   "cell_type": "code",
   "execution_count": null,
   "metadata": {},
   "outputs": [],
   "source": [
    "# we want to read in the csv file provided, noticed the path down in the read_csv() can be changed as we like.\n",
    "df = pd.read_csv('Decision_Tree_bankloan.csv')\n",
    "df # show the first five rows"
   ]
  },
  {
   "cell_type": "markdown",
   "metadata": {},
   "source": [
    "### Preprocess the data\n",
    "In this sample data set, the `outcome` is determined according to `Age`, `Has_hob` and 'Own_house'\n"
   ]
  },
  {
   "cell_type": "code",
   "execution_count": null,
   "metadata": {},
   "outputs": [],
   "source": [
    "# change the type of these features to `category` for mapping in the next step\n",
    "df['Age'] = df['Age'].astype('category')\n",
    "df['Has_job'] = df['Has_job'].astype('category') \n",
    "df['Own_house'] = df['Own_house'].astype('category')\n",
    "df['Outcome'] = df['Outcome'].astype('category') \n",
    "\n",
    "# use .cat.codes on `category` type to map all literals to numeric values\n",
    "df['Age'] = df['Age'].cat.codes\n",
    "df['Has_job'] = df['Has_job'].cat.codes\n",
    "df['Own_house'] = df['Own_house'].cat.codes\n",
    "df['Outcome'] = df['Outcome'].cat.codes\n",
    "\n",
    "df"
   ]
  },
  {
   "cell_type": "code",
   "execution_count": null,
   "metadata": {},
   "outputs": [],
   "source": [
    "# check if the categories are balanced\n",
    "df['Outcome'].value_counts()"
   ]
  },
  {
   "cell_type": "code",
   "execution_count": null,
   "metadata": {},
   "outputs": [],
   "source": [
    "# extract data and target from our dataframe\n",
    "data = df[['Age', 'Has_job', 'Own_house']] # independent variables\n",
    "target = df['Outcome']  # dependent variable: y\n",
    "data"
   ]
  },
  {
   "cell_type": "code",
   "execution_count": null,
   "metadata": {},
   "outputs": [],
   "source": [
    "target"
   ]
  },
  {
   "cell_type": "markdown",
   "metadata": {},
   "source": [
    "### Build the Decision Tree Model"
   ]
  },
  {
   "cell_type": "raw",
   "metadata": {},
   "source": [
    "We have the data prepared. We can do train test split now."
   ]
  },
  {
   "cell_type": "code",
   "execution_count": null,
   "metadata": {},
   "outputs": [],
   "source": [
    "# import train_test_split\n",
    "from sklearn.model_selection import train_test_split\n",
    "\n",
    "x_train, x_test, y_train, y_test = train_test_split(data, target, random_state = 42)"
   ]
  },
  {
   "cell_type": "code",
   "execution_count": null,
   "metadata": {},
   "outputs": [],
   "source": [
    "# import decision tree model from sklearn\n",
    "from sklearn.tree import DecisionTreeClassifier\n",
    "\n",
    "# instantiate a decision tree model. All parameters can be omited to use default ones.\n",
    "# details please check https://scikit-learn.org/stable/modules/generated/sklearn.tree.DecisionTreeClassifier.html\n",
    "\n",
    "#dt = DecisionTreeClassifier() \n",
    "#dt.fit(x_train, y_train) # train our model\n",
    "\n",
    "dt = DecisionTreeClassifier(max_depth = 1, random_state = 0) \n",
    "dt.fit(x_train, y_train) "
   ]
  },
  {
   "cell_type": "code",
   "execution_count": null,
   "metadata": {},
   "outputs": [],
   "source": [
    "x_train"
   ]
  },
  {
   "cell_type": "code",
   "execution_count": null,
   "metadata": {},
   "outputs": [],
   "source": [
    "y_train"
   ]
  },
  {
   "cell_type": "markdown",
   "metadata": {},
   "source": [
    "### Evaluate the model"
   ]
  },
  {
   "cell_type": "code",
   "execution_count": null,
   "metadata": {},
   "outputs": [],
   "source": [
    "y_pred = dt.predict(x_test) # let the model predict the test data"
   ]
  },
  {
   "cell_type": "code",
   "execution_count": null,
   "metadata": {},
   "outputs": [],
   "source": [
    "from sklearn.metrics import accuracy_score\n",
    "accuracy_score(y_test, y_pred)"
   ]
  },
  {
   "cell_type": "code",
   "execution_count": null,
   "metadata": {},
   "outputs": [],
   "source": [
    "print(y_pred) # what the model predict entertainment labels\n",
    "print(y_test) # true labels\n"
   ]
  },
  {
   "cell_type": "markdown",
   "metadata": {},
   "source": [
    "Compare the predicted labels and true labels. The accuracy score formula can be seen as\n",
    "\n",
    "$$ accuracy\\_score = \\frac{number\\_of\\_matches}{number\\_of\\_samples} $$\n",
    "\n"
   ]
  },
  {
   "cell_type": "markdown",
   "metadata": {},
   "source": [
    "### Visualize the Decision Tree\n",
    "\n",
    "we can use `graphviz` to see what the decision tree looks like\n",
    "\n",
    "First, run this in the directory this file is in\n",
    "```\n",
    "conda install python-graphviz\n",
    "```"
   ]
  },
  {
   "cell_type": "code",
   "execution_count": null,
   "metadata": {},
   "outputs": [],
   "source": [
    "# show the decision tree model\n",
    "# import graphviz and sklearn.tree first\n",
    "from sklearn import tree\n",
    "import graphviz\n",
    "from graphviz import Source\n",
    "\n",
    "Source(tree.export_graphviz(dt, out_file=None, class_names=True, feature_names= x_train.columns)) # display the tree, with no output file"
   ]
  },
  {
   "cell_type": "code",
   "execution_count": null,
   "metadata": {},
   "outputs": [],
   "source": [
    "from sklearn import tree\n",
    "import graphviz\n",
    "from graphviz import Source\n",
    "\n",
    "Source(tree.export_graphviz(dt, out_file=None, class_names=['No', 'Yes'], feature_names= x_train.columns)) # display the tree, with no output file"
   ]
  },
  {
   "cell_type": "raw",
   "metadata": {},
   "source": [
    "- first row is the feature the tree uses to group child nodes. \n",
    "- second row is the gini score which gives how good the split is. the best scenario is gini = 0 which means all data\n",
    "    in this group are from the same class. gini = 0.5 means half of the group are from one class the others are from the other one\n",
    "- thrid row is how many samples go in this group\n",
    "- fourth row is an array with the number of each class in this group. e.g. the root has value = [1, 11] which means\n",
    "    one class 0 and eleven class 1 are in this group\n",
    "- fifth row gives what class most data in this group are in "
   ]
  },
  {
   "cell_type": "code",
   "execution_count": null,
   "metadata": {},
   "outputs": [],
   "source": [
    "from sklearn import tree\n",
    "import graphviz\n",
    "from graphviz import Source\n",
    "\n",
    "Source(tree.export_graphviz(dt, out_file=None, class_names=['No', 'Yes'], feature_names= x_train.columns)) # display the tree, with no output file"
   ]
  },
  {
   "cell_type": "markdown",
   "metadata": {},
   "source": [
    "### Predict Some Values"
   ]
  },
  {
   "cell_type": "code",
   "execution_count": null,
   "metadata": {},
   "outputs": [],
   "source": [
    "## we can use the model to predict some values\n",
    "\n",
    "print(dt.predict([[1, 0,1]])) \n",
    "print(dt.predict([[1, 0,0]])) "
   ]
  },
  {
   "cell_type": "code",
   "execution_count": null,
   "metadata": {},
   "outputs": [],
   "source": []
  }
 ],
 "metadata": {
  "kernelspec": {
   "display_name": "Python 3 (ipykernel)",
   "language": "python",
   "name": "python3"
  },
  "language_info": {
   "codemirror_mode": {
    "name": "ipython",
    "version": 3
   },
   "file_extension": ".py",
   "mimetype": "text/x-python",
   "name": "python",
   "nbconvert_exporter": "python",
   "pygments_lexer": "ipython3",
   "version": "3.10.4"
  }
 },
 "nbformat": 4,
 "nbformat_minor": 2
}
