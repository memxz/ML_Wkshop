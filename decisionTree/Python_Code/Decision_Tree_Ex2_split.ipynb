{
 "cells": [
  {
   "cell_type": "markdown",
   "metadata": {},
   "source": [
    "## Decision Tree Model\n",
    "\n",
    "In this example, two different files are used to train and validate the machine learning model.  The features are explicitly mapped to the codes to ensure consistency among the training and test dataframes. "
   ]
  },
  {
   "cell_type": "code",
   "execution_count": null,
   "metadata": {},
   "outputs": [],
   "source": [
    "# import the things we need first\n",
    "import pandas as pd\n",
    "import numpy as np\n",
    "import matplotlib.pyplot as plt\n",
    "import sklearn"
   ]
  },
  {
   "cell_type": "code",
   "execution_count": null,
   "metadata": {},
   "outputs": [],
   "source": [
    "# we want to read in the csv files provided, noticed the path down in the read_csv() can be changed as we like.\n",
    "df_train = pd.read_csv('Decision_Tree_bankloan-train.csv') # read in training data file\n",
    "df_test = pd.read_csv('Decision_Tree_bankloan-test.csv') # read in testing data file\n",
    "df_test.head() # show the first five rows of the test data"
   ]
  },
  {
   "cell_type": "markdown",
   "metadata": {},
   "source": [
    "### Preprocess the data\n",
    "\n",
    "We are going to put training and testing data in two dataframe."
   ]
  },
  {
   "cell_type": "code",
   "execution_count": null,
   "metadata": {
    "scrolled": true
   },
   "outputs": [],
   "source": [
    "df_train"
   ]
  },
  {
   "cell_type": "code",
   "execution_count": null,
   "metadata": {},
   "outputs": [],
   "source": [
    "df_train['Age']"
   ]
  },
  {
   "cell_type": "code",
   "execution_count": null,
   "metadata": {},
   "outputs": [],
   "source": [
    "# when we construct the dataframe, Pandas automatically set the type of Has_job and Own_house values to Boolean\n",
    "# we can change it by mapping them to strings\n",
    "\n",
    "# dictionary for mapping\n",
    "boolDict = {\n",
    "    True: 'True',\n",
    "    False: 'False'\n",
    "}\n",
    "\n",
    "# we should only map these two rows\n",
    "for i in [1,2]:\n",
    "    df_train.iloc[:, i] = df_train.iloc[:, i].map(boolDict)\n",
    "    df_test.iloc[:, i] = df_test.iloc[:, i].map(boolDict)"
   ]
  },
  {
   "cell_type": "code",
   "execution_count": null,
   "metadata": {},
   "outputs": [],
   "source": [
    "# to customize what value for each feature to be mapped to \n",
    "# we can provide a dictionary that has all the mapping rules\n",
    "\n",
    "\n",
    "mydict = {\n",
    "    \"Yes\": 1,\n",
    "    \"No\": 0,\n",
    "    \"True\": 0,\n",
    "    \"False\": 1,\n",
    "    \"young\": 0,\n",
    "    \"middle\": 1,\n",
    "    \"old\": 2,\n",
    "    \"fair\" : 0,\n",
    "    \"good\" : 1,\n",
    "    \"excellent\" : 2    \n",
    "}\n",
    "\n",
    "# construct a function that can take a dataframe and\n",
    "# map all the categorical values in each column according\n",
    "# to our dictionary\n",
    "def outcomeTrans(X):\n",
    "    cols = list(X)\n",
    "    for i in cols:\n",
    "        X[i] = X[i].map(mydict)\n",
    "    return X\n",
    "        \n",
    "\n",
    "# mapping for both dataset\n",
    "outcomeTrans(df_train)\n",
    "outcomeTrans(df_test)\n",
    "df_train.head()"
   ]
  },
  {
   "cell_type": "code",
   "execution_count": null,
   "metadata": {},
   "outputs": [],
   "source": [
    "df_test"
   ]
  },
  {
   "cell_type": "markdown",
   "metadata": {},
   "source": [
    "We have the data prepared. "
   ]
  },
  {
   "cell_type": "code",
   "execution_count": null,
   "metadata": {},
   "outputs": [],
   "source": [
    "# RUN THIS\n",
    "# set training data variable & target\n",
    "# set testing data variable & target\n",
    "x_train = df_train.iloc[:, 0:4]\n",
    "y_train = df_train['Outcome']\n",
    "x_test = df_test.iloc[:, 0:4]\n",
    "y_test = df_test['Outcome']"
   ]
  },
  {
   "cell_type": "code",
   "execution_count": null,
   "metadata": {},
   "outputs": [],
   "source": [
    "x_train"
   ]
  },
  {
   "cell_type": "markdown",
   "metadata": {},
   "source": [
    "### Train the Model"
   ]
  },
  {
   "cell_type": "code",
   "execution_count": null,
   "metadata": {
    "scrolled": true
   },
   "outputs": [],
   "source": [
    "# import decision tree model from sklearn\n",
    "from sklearn.tree import DecisionTreeClassifier\n",
    "\n",
    "# instantiate a decision tree model. All parameters can be omited to use default ones.\n",
    "# details please check https://scikit-learn.org/stable/modules/generated/sklearn.tree.DecisionTreeClassifier.html\n",
    "dt = DecisionTreeClassifier() \n",
    "dt.fit(x_train, y_train) # train our model"
   ]
  },
  {
   "cell_type": "markdown",
   "metadata": {},
   "source": [
    "### Evaluate the model"
   ]
  },
  {
   "cell_type": "code",
   "execution_count": null,
   "metadata": {},
   "outputs": [],
   "source": [
    "x_train"
   ]
  },
  {
   "cell_type": "code",
   "execution_count": null,
   "metadata": {
    "scrolled": true
   },
   "outputs": [],
   "source": [
    "y_train"
   ]
  },
  {
   "cell_type": "code",
   "execution_count": null,
   "metadata": {},
   "outputs": [],
   "source": [
    "y_pred = dt.predict(x_test) # let the model predict the test data"
   ]
  },
  {
   "cell_type": "code",
   "execution_count": null,
   "metadata": {},
   "outputs": [],
   "source": [
    "y_test"
   ]
  },
  {
   "cell_type": "code",
   "execution_count": null,
   "metadata": {},
   "outputs": [],
   "source": [
    "from sklearn.metrics import accuracy_score\n",
    "accuracy_score(y_test, y_pred)"
   ]
  },
  {
   "cell_type": "code",
   "execution_count": null,
   "metadata": {},
   "outputs": [],
   "source": [
    "print(y_pred) # what the model predict entertainment labels\n",
    "print(y_test) # true labels\n"
   ]
  },
  {
   "cell_type": "raw",
   "metadata": {},
   "source": [
    "Compare the predicted labels and true labels. The accuracy score formula can be seen as\n",
    "\n",
    "$$ accuracy\\_score = \\frac{number\\_of\\_matches}{number\\_of\\_samples} $$\n",
    "\n"
   ]
  },
  {
   "cell_type": "code",
   "execution_count": null,
   "metadata": {},
   "outputs": [],
   "source": [
    "## we can use the model to predict any data\n",
    "\n",
    "print(dt.predict([[1, 0, 1,1]])) \n",
    "print(dt.predict([[1, 0, 0,1]])) "
   ]
  },
  {
   "cell_type": "code",
   "execution_count": null,
   "metadata": {
    "scrolled": true
   },
   "outputs": [],
   "source": [
    "x_test_simple = [[1, 0, 1,1]]\n",
    "y_test_simple = [1]\n",
    "y_pred_simple = dt.predict(x_test_simple)\n",
    "print(y_test_simple)\n",
    "print(y_pred_simple)\n"
   ]
  },
  {
   "cell_type": "markdown",
   "metadata": {},
   "source": [
    "### Visualize the Decision Tree\n",
    "\n",
    "we can use `graphviz` to see what the decision tree looks like\n",
    "\n",
    "First, run this in the directory this file is in\n",
    "```\n",
    "conda install python-graphviz\n",
    "```"
   ]
  },
  {
   "cell_type": "code",
   "execution_count": null,
   "metadata": {},
   "outputs": [],
   "source": [
    "# show the decision tree model\n",
    "# import graphviz and sklearn.tree first\n",
    "from sklearn import tree\n",
    "import graphviz\n",
    "from graphviz import Source\n",
    "\n",
    "Source(tree.export_graphviz(dt, out_file=None, class_names=True, feature_names= x_train.columns)) # display the tree, with no output file"
   ]
  },
  {
   "cell_type": "code",
   "execution_count": null,
   "metadata": {},
   "outputs": [],
   "source": [
    "from sklearn import tree\n",
    "import graphviz\n",
    "from graphviz import Source\n",
    "\n",
    "Source(tree.export_graphviz(dt, out_file=None, class_names=['No', 'Yes'], feature_names= x_train.columns)) # display the tree, with no output file"
   ]
  },
  {
   "cell_type": "raw",
   "metadata": {},
   "source": [
    "- first row is the feature the tree uses to group child nodes. For example: from the root, any data with has_job <= 0.5\n",
    "    goes to the left child, any data with has_job > 0.5 goes to the right child\n",
    "- second row is the gini score which gives how good the split is. the best scenario is gini = 0 which means all data\n",
    "    in this group are from the same class. gini = 0.5 means half of the group are from one class the others are from the other one\n",
    "- thrid row is how many samples go in this group\n",
    "- fourth row is an array with the number of each class in this group. e.g. the root has value = [1, 11] which means\n",
    "    one class 0 and eleven class 1 are in this group\n",
    "- fifth row gives what class most data in this group are in "
   ]
  },
  {
   "cell_type": "code",
   "execution_count": null,
   "metadata": {},
   "outputs": [],
   "source": []
  }
 ],
 "metadata": {
  "kernelspec": {
   "display_name": "Python 3 (ipykernel)",
   "language": "python",
   "name": "python3"
  },
  "language_info": {
   "codemirror_mode": {
    "name": "ipython",
    "version": 3
   },
   "file_extension": ".py",
   "mimetype": "text/x-python",
   "name": "python",
   "nbconvert_exporter": "python",
   "pygments_lexer": "ipython3",
   "version": "3.10.4"
  }
 },
 "nbformat": 4,
 "nbformat_minor": 2
}
