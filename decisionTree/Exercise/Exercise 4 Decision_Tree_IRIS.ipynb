{
 "cells": [
  {
   "cell_type": "markdown",
   "metadata": {},
   "source": [
    "# Other Classification Exercise - Decision Tree Model\n",
    "\n"
   ]
  },
  {
   "cell_type": "raw",
   "metadata": {},
   "source": [
    "1) Build and validate a decision tree classification model with the following dataset.\n",
    "\n",
    "Input dataset: 'iris-data-clean.csv'\n",
    "\n",
    "Features: 'sepal_length_cm', 'sepal_width_cm', 'petal_length_cm', 'petal_width_cm'\n",
    "\n",
    "Label: 'class'\n",
    "\n",
    "Do not set the level of depth."
   ]
  },
  {
   "cell_type": "raw",
   "metadata": {},
   "source": [
    "2) Set the level of depth to 3.  Send some data for prediction.  "
   ]
  },
  {
   "cell_type": "raw",
   "metadata": {},
   "source": [
    "3) Set the level of depth to 1.  Send some data for prediction.  What is the outcome?  Describe your reason."
   ]
  },
  {
   "cell_type": "code",
   "execution_count": null,
   "metadata": {},
   "outputs": [],
   "source": []
  }
 ],
 "metadata": {
  "kernelspec": {
   "display_name": "Python 3 (ipykernel)",
   "language": "python",
   "name": "python3"
  },
  "language_info": {
   "codemirror_mode": {
    "name": "ipython",
    "version": 3
   },
   "file_extension": ".py",
   "mimetype": "text/x-python",
   "name": "python",
   "nbconvert_exporter": "python",
   "pygments_lexer": "ipython3",
   "version": "3.10.4"
  }
 },
 "nbformat": 4,
 "nbformat_minor": 2
}
