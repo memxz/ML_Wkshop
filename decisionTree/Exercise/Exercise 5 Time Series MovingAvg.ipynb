{
 "cells": [
  {
   "cell_type": "markdown",
   "metadata": {},
   "source": [
    "# Time Series - Moving Average Exercise 2"
   ]
  },
  {
   "cell_type": "raw",
   "metadata": {},
   "source": [
    "Load the stock price of AMZN from the file AMZN.csv.  You could also download the data from \n",
    "https://finance.yahoo.com/quote/AMZN/history?p=AMZN.  Perform the followings:\n",
    "1) What is the average stock price based on the past 200 days?\n",
    "2) Plot the graph of the historical stock price, 50 days moving average and 200 days moving average"
   ]
  }
 ],
 "metadata": {
  "kernelspec": {
   "display_name": "Python 3",
   "language": "python",
   "name": "python3"
  },
  "language_info": {
   "codemirror_mode": {
    "name": "ipython",
    "version": 3
   },
   "file_extension": ".py",
   "mimetype": "text/x-python",
   "name": "python",
   "nbconvert_exporter": "python",
   "pygments_lexer": "ipython3",
   "version": "3.9.4"
  }
 },
 "nbformat": 4,
 "nbformat_minor": 2
}
