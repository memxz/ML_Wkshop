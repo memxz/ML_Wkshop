{
 "cells": [
  {
   "cell_type": "markdown",
   "id": "abdf2304-44a5-4b1d-b051-9d3f9dffb1e4",
   "metadata": {},
   "source": [
    "<h1> Fruit Classifier - Documentation"
   ]
  },
  {
   "cell_type": "markdown",
   "id": "0fc59313-7a80-4589-bd78-4f8caa11f455",
   "metadata": {},
   "source": [
    " \n"
   ]
  },
  {
   "cell_type": "markdown",
   "id": "722c79f9-c81c-4ae1-82e9-cbf292b8b0a3",
   "metadata": {},
   "source": [
    "<h2>Initial Setup"
   ]
  },
  {
   "cell_type": "markdown",
   "id": "4f64f92e-fa83-4bca-bacb-d9c7d4b22dbe",
   "metadata": {},
   "source": [
    "<h4> Import Dependencies"
   ]
  },
  {
   "cell_type": "code",
   "execution_count": 1,
   "id": "c34821df-f953-4815-8c24-931f8db02fb9",
   "metadata": {},
   "outputs": [],
   "source": [
    "import pandas as pd\n",
    "import imghdr\n",
    "from matplotlib import pyplot as plt\n",
    "import numpy as np\n",
    "import os\n",
    "import seaborn as sns\n",
    "import random\n",
    "from skimage import io\n",
    "from sklearn.metrics import confusion_matrix\n",
    "from sklearn.preprocessing import OneHotEncoder\n",
    "import tensorflow as tf\n",
    "from tensorflow.keras.layers import Conv2D, MaxPooling2D, Flatten, Dense, Dropout\n",
    "from tensorflow.keras.models import Sequential\n",
    "from tensorflow.keras.preprocessing import image\n",
    "from tensorflow.keras.callbacks import EarlyStopping\n",
    "# from tensorflow.keras.preprocessing.image import smart_resize as krshape"
   ]
  },
  {
   "cell_type": "code",
   "execution_count": 2,
   "id": "9918bea5-455b-4293-819a-921e32e5c321",
   "metadata": {},
   "outputs": [],
   "source": [
    "seed=42\n",
    "random.seed(seed)\n",
    "np.random.seed(seed)\n",
    "tf.random.set_seed(seed)"
   ]
  },
  {
   "cell_type": "markdown",
   "id": "29da965b-877f-46d0-aef8-c1c857112fdd",
   "metadata": {},
   "source": [
    "<h4> Import Dataset"
   ]
  },
  {
   "cell_type": "code",
   "execution_count": 3,
   "id": "efabdd5d-7682-4863-af3c-77db14f4c4b4",
   "metadata": {},
   "outputs": [],
   "source": [
    "trainpath = 'Data\\\\train3'\n",
    "testpath = 'Data\\\\test'\n",
    "imagesize = (224,224)\n",
    "epochs = 30"
   ]
  },
  {
   "cell_type": "code",
   "execution_count": 4,
   "id": "14b94381-1fd6-42ac-996c-5da93dd198ad",
   "metadata": {},
   "outputs": [],
   "source": [
    "def GetTrainingImages():\n",
    "    image_paths = []\n",
    "    for clas in os.listdir(trainpath):\n",
    "        if clas[0] == '.': # not including hidden files\n",
    "                continue\n",
    "        else:\n",
    "            clas_path =  os.path.join(trainpath,clas)\n",
    "            for image in os.listdir(clas_path):\n",
    "                image_path = os.path.join(clas_path,image)\n",
    "                image_paths.append(image_path)  # stores all the paths to the images in a list\n",
    "    return image_paths"
   ]
  },
  {
   "cell_type": "code",
   "execution_count": 5,
   "id": "d5c28171-23ce-459a-9381-f5229d9555aa",
   "metadata": {
    "scrolled": true
   },
   "outputs": [],
   "source": [
    "def GetTestImages():\n",
    "    image_paths = []\n",
    "    for clas in os.listdir(testpath):\n",
    "        if clas[0] == '.': # not including hidden files\n",
    "            continue\n",
    "        else:\n",
    "            clas_path =  os.path.join(testpath,clas)\n",
    "            for image in os.listdir(clas_path):\n",
    "                image_path = os.path.join(clas_path,image)\n",
    "                image_paths.append(image_path)  # stores all the paths to the images in a list\n",
    "    return image_paths"
   ]
  },
  {
   "cell_type": "code",
   "execution_count": 6,
   "id": "a1ffdc4e-10a7-4bc1-bb18-f62012cc63b3",
   "metadata": {
    "scrolled": true,
    "tags": []
   },
   "outputs": [],
   "source": [
    "image_paths = GetTrainingImages()"
   ]
  },
  {
   "cell_type": "code",
   "execution_count": 7,
   "id": "a0562d9d-c6e5-475f-ad66-0a6fb697015f",
   "metadata": {},
   "outputs": [],
   "source": [
    "test_image_paths = GetTestImages()"
   ]
  },
  {
   "cell_type": "markdown",
   "id": "b6de531f-e8a3-4c13-b6b0-e1d3b5e26911",
   "metadata": {},
   "source": [
    "<h4> Remove and Resize"
   ]
  },
  {
   "cell_type": "code",
   "execution_count": 8,
   "id": "b50861db-81ec-47fd-8d6f-6a8951fdad1d",
   "metadata": {
    "tags": []
   },
   "outputs": [],
   "source": [
    "def RemoveOutliers(df):\n",
    "    extremeHeights = [i for i in range(len(df)) if (df[\"Height\"].iloc[i] > 1600) | (df[\"Height\"].iloc[i] < 300)]\n",
    "    extremeWidths = [i for i in range(len(df)) if (df[\"Width\"].iloc[i] > 1800) | (df[\"Width\"].iloc[i] < 300)]\n",
    "   # extremeRatios = [i for i in range(len(df)) if df[\"XY Ratio\"].iloc[i] > 2]\n",
    "    extremes = extremeHeights + extremeWidths #+ extremeRatios\n",
    "    extremes = np.unique(extremes) # remove duplicates\n",
    "    df = df.drop(extremes) # drop all outliers from df\n",
    "    image_paths = []\n",
    "    for image_path in df[\"Path\"]:\n",
    "        image_paths.append(image_path)\n",
    "    return image_paths"
   ]
  },
  {
   "cell_type": "code",
   "execution_count": 9,
   "id": "8762a65d-7614-469b-b885-d34ce9e42a02",
   "metadata": {
    "jupyter": {
     "source_hidden": true
    },
    "tags": []
   },
   "outputs": [],
   "source": [
    "def PlotImageSizes(image_paths):\n",
    "    height = []\n",
    "    width = []\n",
    "    XYratio = []\n",
    "    for image_path in image_paths:\n",
    "        img = image.load_img(image_path)\n",
    "        width.append(img.size[0])\n",
    "        height.append(img.size[1])\n",
    "    sns.scatterplot(x=width,y=height)\n",
    "    plt.suptitle(t=\"Image Sizes\")\n",
    "    plt.xlabel(\"Width\")\n",
    "    plt.ylabel(\"Height\")\n",
    "    plt.show()"
   ]
  },
  {
   "cell_type": "code",
   "execution_count": 10,
   "id": "6d3f8791-dba1-479b-8097-4eb79d64de5b",
   "metadata": {
    "tags": []
   },
   "outputs": [],
   "source": [
    "def CreateDataFrame(image_paths):\n",
    "    height = []\n",
    "    width = []\n",
    "    XYratio = []\n",
    "    for image_path in image_paths:\n",
    "        img = image.load_img(image_path)\n",
    "        width.append(img.size[0])\n",
    "        height.append(img.size[1])\n",
    "        XYratio.append(img.size[0]/img.size[1])\n",
    "    return pd.DataFrame({\"Height\" : height, \"Width\" : width, \"XY Ratio\" : XYratio, \"Path\" : image_paths})"
   ]
  },
  {
   "cell_type": "code",
   "execution_count": 11,
   "id": "2b8673fe-88d5-45d7-8de3-ac2a6bcbb946",
   "metadata": {
    "jupyter": {
     "source_hidden": true
    },
    "tags": []
   },
   "outputs": [
    {
     "name": "stderr",
     "output_type": "stream",
     "text": [
      "C:\\Users\\bert\\anaconda3\\lib\\site-packages\\PIL\\Image.py:959: UserWarning: Palette images with Transparency expressed in bytes should be converted to RGBA images\n",
      "  warnings.warn(\n"
     ]
    },
    {
     "data": {
      "image/png": "[encoded data removed]",
      "text/plain": [
       "<Figure size 640x480 with 1 Axes>"
      ]
     },
     "metadata": {},
     "output_type": "display_data"
    }
   ],
   "source": [
    "PlotImageSizes(image_paths) "
   ]
  },
  {
   "cell_type": "code",
   "execution_count": 12,
   "id": "6343bc2b-62c7-4d1c-8761-056f888805d4",
   "metadata": {
    "jupyter": {
     "source_hidden": true
    },
    "tags": []
   },
   "outputs": [
    {
     "name": "stderr",
     "output_type": "stream",
     "text": [
      "C:\\Users\\bert\\anaconda3\\lib\\site-packages\\PIL\\Image.py:959: UserWarning: Palette images with Transparency expressed in bytes should be converted to RGBA images\n",
      "  warnings.warn(\n"
     ]
    }
   ],
   "source": [
    "df = CreateDataFrame(image_paths)"
   ]
  },
  {
   "cell_type": "code",
   "execution_count": 13,
   "id": "8407c74a-3e4f-4dc4-92ef-6f91ded70ec8",
   "metadata": {
    "tags": []
   },
   "outputs": [
    {
     "data": {
      "text/html": [
       "<div>\n",
       "<style scoped>\n",
       "    .dataframe tbody tr th:only-of-type {\n",
       "        vertical-align: middle;\n",
       "    }\n",
       "\n",
       "    .dataframe tbody tr th {\n",
       "        vertical-align: top;\n",
       "    }\n",
       "\n",
       "    .dataframe thead th {\n",
       "        text-align: right;\n",
       "    }\n",
       "</style>\n",
       "<table border=\"1\" class=\"dataframe\">\n",
       "  <thead>\n",
       "    <tr style=\"text-align: right;\">\n",
       "      <th></th>\n",
       "      <th>Height</th>\n",
       "      <th>Width</th>\n",
       "      <th>XY Ratio</th>\n",
       "    </tr>\n",
       "  </thead>\n",
       "  <tbody>\n",
       "    <tr>\n",
       "      <th>count</th>\n",
       "      <td>270.000000</td>\n",
       "      <td>270.000000</td>\n",
       "      <td>270.000000</td>\n",
       "    </tr>\n",
       "    <tr>\n",
       "      <th>mean</th>\n",
       "      <td>548.125926</td>\n",
       "      <td>698.559259</td>\n",
       "      <td>1.313668</td>\n",
       "    </tr>\n",
       "    <tr>\n",
       "      <th>std</th>\n",
       "      <td>332.679265</td>\n",
       "      <td>394.150843</td>\n",
       "      <td>0.291589</td>\n",
       "    </tr>\n",
       "    <tr>\n",
       "      <th>min</th>\n",
       "      <td>219.000000</td>\n",
       "      <td>220.000000</td>\n",
       "      <td>0.655446</td>\n",
       "    </tr>\n",
       "    <tr>\n",
       "      <th>25%</th>\n",
       "      <td>300.000000</td>\n",
       "      <td>400.000000</td>\n",
       "      <td>1.024585</td>\n",
       "    </tr>\n",
       "    <tr>\n",
       "      <th>50%</th>\n",
       "      <td>433.000000</td>\n",
       "      <td>602.000000</td>\n",
       "      <td>1.333333</td>\n",
       "    </tr>\n",
       "    <tr>\n",
       "      <th>75%</th>\n",
       "      <td>644.000000</td>\n",
       "      <td>800.000000</td>\n",
       "      <td>1.500000</td>\n",
       "    </tr>\n",
       "    <tr>\n",
       "      <th>max</th>\n",
       "      <td>1980.000000</td>\n",
       "      <td>2000.000000</td>\n",
       "      <td>2.000000</td>\n",
       "    </tr>\n",
       "  </tbody>\n",
       "</table>\n",
       "</div>"
      ],
      "text/plain": [
       "            Height        Width    XY Ratio\n",
       "count   270.000000   270.000000  270.000000\n",
       "mean    548.125926   698.559259    1.313668\n",
       "std     332.679265   394.150843    0.291589\n",
       "min     219.000000   220.000000    0.655446\n",
       "25%     300.000000   400.000000    1.024585\n",
       "50%     433.000000   602.000000    1.333333\n",
       "75%     644.000000   800.000000    1.500000\n",
       "max    1980.000000  2000.000000    2.000000"
      ]
     },
     "execution_count": 13,
     "metadata": {},
     "output_type": "execute_result"
    }
   ],
   "source": [
    "df.describe()  # Notice some images are really huge!"
   ]
  },
  {
   "cell_type": "code",
   "execution_count": 14,
   "id": "15c7a93d-f4cb-475e-b0b7-bfb58ab7473f",
   "metadata": {
    "jupyter": {
     "source_hidden": true
    },
    "tags": []
   },
   "outputs": [],
   "source": [
    "image_paths = RemoveOutliers(df) # Only removed some images"
   ]
  },
  {
   "cell_type": "code",
   "execution_count": 15,
   "id": "46b22e8f-4ad1-4d66-beae-e2de58ca4176",
   "metadata": {
    "tags": []
   },
   "outputs": [
    {
     "name": "stderr",
     "output_type": "stream",
     "text": [
      "C:\\Users\\bert\\anaconda3\\lib\\site-packages\\PIL\\Image.py:959: UserWarning: Palette images with Transparency expressed in bytes should be converted to RGBA images\n",
      "  warnings.warn(\n"
     ]
    },
    {
     "data": {
      "image/png": "[encoded data removed]",
      "text/plain": [
       "<Figure size 640x480 with 1 Axes>"
      ]
     },
     "metadata": {},
     "output_type": "display_data"
    }
   ],
   "source": [
    "PlotImageSizes(image_paths) "
   ]
  },
  {
   "cell_type": "code",
   "execution_count": 16,
   "id": "83e29f83-4280-493d-a1af-6a58ea11f56a",
   "metadata": {
    "tags": []
   },
   "outputs": [
    {
     "name": "stderr",
     "output_type": "stream",
     "text": [
      "C:\\Users\\bert\\anaconda3\\lib\\site-packages\\PIL\\Image.py:959: UserWarning: Palette images with Transparency expressed in bytes should be converted to RGBA images\n",
      "  warnings.warn(\n"
     ]
    }
   ],
   "source": [
    "df = CreateDataFrame(image_paths)"
   ]
  },
  {
   "cell_type": "code",
   "execution_count": 17,
   "id": "2ffce087-a0b6-4036-b9ad-e11cd64e760e",
   "metadata": {
    "tags": []
   },
   "outputs": [
    {
     "data": {
      "text/html": [
       "<div>\n",
       "<style scoped>\n",
       "    .dataframe tbody tr th:only-of-type {\n",
       "        vertical-align: middle;\n",
       "    }\n",
       "\n",
       "    .dataframe tbody tr th {\n",
       "        vertical-align: top;\n",
       "    }\n",
       "\n",
       "    .dataframe thead th {\n",
       "        text-align: right;\n",
       "    }\n",
       "</style>\n",
       "<table border=\"1\" class=\"dataframe\">\n",
       "  <thead>\n",
       "    <tr style=\"text-align: right;\">\n",
       "      <th></th>\n",
       "      <th>Height</th>\n",
       "      <th>Width</th>\n",
       "      <th>XY Ratio</th>\n",
       "    </tr>\n",
       "  </thead>\n",
       "  <tbody>\n",
       "    <tr>\n",
       "      <th>count</th>\n",
       "      <td>226.000000</td>\n",
       "      <td>226.000000</td>\n",
       "      <td>226.000000</td>\n",
       "    </tr>\n",
       "    <tr>\n",
       "      <th>mean</th>\n",
       "      <td>540.022124</td>\n",
       "      <td>695.092920</td>\n",
       "      <td>1.321787</td>\n",
       "    </tr>\n",
       "    <tr>\n",
       "      <th>std</th>\n",
       "      <td>261.827075</td>\n",
       "      <td>317.784672</td>\n",
       "      <td>0.282005</td>\n",
       "    </tr>\n",
       "    <tr>\n",
       "      <th>min</th>\n",
       "      <td>300.000000</td>\n",
       "      <td>300.000000</td>\n",
       "      <td>0.655446</td>\n",
       "    </tr>\n",
       "    <tr>\n",
       "      <th>25%</th>\n",
       "      <td>331.250000</td>\n",
       "      <td>400.000000</td>\n",
       "      <td>1.051741</td>\n",
       "    </tr>\n",
       "    <tr>\n",
       "      <th>50%</th>\n",
       "      <td>455.000000</td>\n",
       "      <td>634.000000</td>\n",
       "      <td>1.333333</td>\n",
       "    </tr>\n",
       "    <tr>\n",
       "      <th>75%</th>\n",
       "      <td>640.750000</td>\n",
       "      <td>800.000000</td>\n",
       "      <td>1.500000</td>\n",
       "    </tr>\n",
       "    <tr>\n",
       "      <th>max</th>\n",
       "      <td>1500.000000</td>\n",
       "      <td>1620.000000</td>\n",
       "      <td>2.000000</td>\n",
       "    </tr>\n",
       "  </tbody>\n",
       "</table>\n",
       "</div>"
      ],
      "text/plain": [
       "            Height        Width    XY Ratio\n",
       "count   226.000000   226.000000  226.000000\n",
       "mean    540.022124   695.092920    1.321787\n",
       "std     261.827075   317.784672    0.282005\n",
       "min     300.000000   300.000000    0.655446\n",
       "25%     331.250000   400.000000    1.051741\n",
       "50%     455.000000   634.000000    1.333333\n",
       "75%     640.750000   800.000000    1.500000\n",
       "max    1500.000000  1620.000000    2.000000"
      ]
     },
     "execution_count": 17,
     "metadata": {},
     "output_type": "execute_result"
    }
   ],
   "source": [
    "df.describe()  # much better"
   ]
  },
  {
   "cell_type": "markdown",
   "id": "2f3a1fbe-2bee-4e76-b762-56b5cef9f704",
   "metadata": {},
   "source": [
    "<h4> Prepare Training Data"
   ]
  },
  {
   "cell_type": "code",
   "execution_count": 18,
   "id": "78a668de-c131-4e37-9b8f-200ff808d5ae",
   "metadata": {},
   "outputs": [],
   "source": [
    "def ProcessImages(image_paths):\n",
    "    X_dataset = []\n",
    "    for image_path in image_paths:\n",
    "        img = image.load_img(image_path, target_size=imagesize) # resize image and crop image at the center if its vertically or horizontally long\n",
    "        img = image.img_to_array(img) # convert to array\n",
    "        img = img/255 # normalize values\n",
    "        X_dataset.append(img)\n",
    "    return np.array(X_dataset)"
   ]
  },
  {
   "cell_type": "code",
   "execution_count": 19,
   "id": "fd815969-c26a-425a-83a0-f3519c2c7a12",
   "metadata": {},
   "outputs": [],
   "source": [
    "def GetLabels(image_paths):\n",
    "    countApple = len([path_text for path_text in image_paths if 'apple' in path_text.lower()]) # count number of apple images\n",
    "    countBanana = len([path_text for path_text in image_paths if 'banana' in path_text.lower()]) # count number of banana images\n",
    "    countMixed = len([path_text for path_text in image_paths if 'mixed' in path_text.lower()]) # count number of mixed images\n",
    "    countOrange = len([path_text for path_text in image_paths if 'orange' in path_text.lower()]) # count number of orange images\n",
    "    y = np.concatenate((['apple']*countApple,['banana']*countBanana,['mixed']*countMixed,['orange']*countOrange)) # combine list of items and convert to 1Darray\n",
    "    y = y.reshape(-1,1) # reshape from 1D array to 2D array because ohe only takes in 2D array\n",
    "    ohe = OneHotEncoder()\n",
    "    return ohe, ohe.fit_transform(y).toarray() # returns the fitted ohe and values to be used as Y_train or Y_test (labels for comparing predictions)"
   ]
  },
  {
   "cell_type": "code",
   "execution_count": 20,
   "id": "93e13973-f559-4885-b990-a6ae93e38bb3",
   "metadata": {},
   "outputs": [
    {
     "name": "stderr",
     "output_type": "stream",
     "text": [
      "C:\\Users\\bert\\anaconda3\\lib\\site-packages\\PIL\\Image.py:959: UserWarning: Palette images with Transparency expressed in bytes should be converted to RGBA images\n",
      "  warnings.warn(\n"
     ]
    }
   ],
   "source": [
    "X_train = ProcessImages(image_paths) # using the image_paths where outliers are already removed"
   ]
  },
  {
   "cell_type": "code",
   "execution_count": 21,
   "id": "6145b3c2-ccbe-4ac8-92e5-f8b16c70085c",
   "metadata": {},
   "outputs": [],
   "source": [
    "ohe, Y_train = GetLabels(image_paths)"
   ]
  },
  {
   "cell_type": "markdown",
   "id": "207c715d-b358-4176-ac2b-7dbd1322715b",
   "metadata": {},
   "source": [
    "<h4> Prepare Testing Data"
   ]
  },
  {
   "cell_type": "code",
   "execution_count": 22,
   "id": "2b23e380-7393-46cc-a627-edd646059711",
   "metadata": {},
   "outputs": [],
   "source": [
    "def ProcessTestImages(image_paths):\n",
    "    X_dataset = []\n",
    "    for image_path in image_paths:\n",
    "        img = image.load_img(image_path, target_size=imagesize) # resize image and crop image at the center if its vertically or horizontally long\n",
    "        img = image.img_to_array(img) # convert to array\n",
    "        img = img/255 # normalize values\n",
    "        X_dataset.append(img)\n",
    "    return np.array(X_dataset)"
   ]
  },
  {
   "cell_type": "code",
   "execution_count": 23,
   "id": "2041e777-4f65-4f1d-8bc7-e32c60dd8f16",
   "metadata": {},
   "outputs": [],
   "source": [
    "X_test = ProcessTestImages(test_image_paths)"
   ]
  },
  {
   "cell_type": "code",
   "execution_count": 24,
   "id": "0aef3f36-9b1d-4fd3-be17-6dcb1f19c2a2",
   "metadata": {},
   "outputs": [],
   "source": [
    "ohe, Y_test = GetLabels(test_image_paths)"
   ]
  },
  {
   "cell_type": "markdown",
   "id": "fa6c3589-b2ef-4860-8c10-4017afa9a4f0",
   "metadata": {},
   "source": [
    "<h4> Create Baseline Model"
   ]
  },
  {
   "cell_type": "code",
   "execution_count": 25,
   "id": "7b3c6c35-9e35-4e65-858d-696dc0535377",
   "metadata": {
    "tags": []
   },
   "outputs": [],
   "source": [
    "n1 = 64\n",
    "n2 = 64\n",
    "n3 = 128 "
   ]
  },
  {
   "cell_type": "code",
   "execution_count": 26,
   "id": "3b528914-4f9e-464f-880c-c9e47a2553bf",
   "metadata": {
    "tags": []
   },
   "outputs": [],
   "source": [
    "baseline = Sequential([\n",
    "    Conv2D(n1,(3,3), activation = 'relu', input_shape=(224,224,3)),\n",
    "    MaxPooling2D((2,2)),\n",
    "    \n",
    "    Conv2D(n2,(3,3), activation = 'relu'),\n",
    "    MaxPooling2D((2,2)),\n",
    "    \n",
    "    Flatten(),\n",
    "    Dense(n3, activation ='relu'), # fully connected layer \n",
    "    Dense(4, activation = 'softmax')\n",
    "])"
   ]
  },
  {
   "cell_type": "code",
   "execution_count": 27,
   "id": "ac66a33b-e854-4c8f-94cd-69e093614a58",
   "metadata": {
    "tags": []
   },
   "outputs": [],
   "source": [
    "baseline.compile(loss = 'categorical_crossentropy', optimizer = 'adam', metrics = ['accuracy'])"
   ]
  },
  {
   "cell_type": "code",
   "execution_count": 28,
   "id": "67ffc6a0-bb12-4c7d-b362-4c70b19cdbca",
   "metadata": {},
   "outputs": [
    {
     "name": "stdout",
     "output_type": "stream",
     "text": [
      "Epoch 1/30\n"
     ]
    },
    {
     "ename": "KeyboardInterrupt",
     "evalue": "",
     "output_type": "error",
     "traceback": [
      "\u001b[1;31m---------------------------------------------------------------------------\u001b[0m",
      "\u001b[1;31mKeyboardInterrupt\u001b[0m                         Traceback (most recent call last)",
      "\u001b[1;32m~\\AppData\\Local\\Temp\\ipykernel_26888\\835792422.py\u001b[0m in \u001b[0;36m<module>\u001b[1;34m\u001b[0m\n\u001b[1;32m----> 1\u001b[1;33m \u001b[0mcallback\u001b[0m \u001b[1;33m=\u001b[0m \u001b[0mbaseline\u001b[0m\u001b[1;33m.\u001b[0m\u001b[0mfit\u001b[0m\u001b[1;33m(\u001b[0m\u001b[0mX_train\u001b[0m\u001b[1;33m,\u001b[0m\u001b[0mY_train\u001b[0m\u001b[1;33m,\u001b[0m\u001b[0mepochs\u001b[0m\u001b[1;33m=\u001b[0m\u001b[0mepochs\u001b[0m \u001b[1;33m,\u001b[0m\u001b[0mvalidation_data\u001b[0m\u001b[1;33m=\u001b[0m\u001b[1;33m(\u001b[0m\u001b[0mX_test\u001b[0m\u001b[1;33m,\u001b[0m\u001b[0mY_test\u001b[0m\u001b[1;33m)\u001b[0m\u001b[1;33m)\u001b[0m\u001b[1;33m\u001b[0m\u001b[1;33m\u001b[0m\u001b[0m\n\u001b[0m",
      "\u001b[1;32m~\\anaconda3\\lib\\site-packages\\keras\\utils\\traceback_utils.py\u001b[0m in \u001b[0;36merror_handler\u001b[1;34m(*args, **kwargs)\u001b[0m\n\u001b[0;32m     63\u001b[0m         \u001b[0mfiltered_tb\u001b[0m \u001b[1;33m=\u001b[0m \u001b[1;32mNone\u001b[0m\u001b[1;33m\u001b[0m\u001b[1;33m\u001b[0m\u001b[0m\n\u001b[0;32m     64\u001b[0m         \u001b[1;32mtry\u001b[0m\u001b[1;33m:\u001b[0m\u001b[1;33m\u001b[0m\u001b[1;33m\u001b[0m\u001b[0m\n\u001b[1;32m---> 65\u001b[1;33m             \u001b[1;32mreturn\u001b[0m \u001b[0mfn\u001b[0m\u001b[1;33m(\u001b[0m\u001b[1;33m*\u001b[0m\u001b[0margs\u001b[0m\u001b[1;33m,\u001b[0m \u001b[1;33m**\u001b[0m\u001b[0mkwargs\u001b[0m\u001b[1;33m)\u001b[0m\u001b[1;33m\u001b[0m\u001b[1;33m\u001b[0m\u001b[0m\n\u001b[0m\u001b[0;32m     66\u001b[0m         \u001b[1;32mexcept\u001b[0m \u001b[0mException\u001b[0m \u001b[1;32mas\u001b[0m \u001b[0me\u001b[0m\u001b[1;33m:\u001b[0m\u001b[1;33m\u001b[0m\u001b[1;33m\u001b[0m\u001b[0m\n\u001b[0;32m     67\u001b[0m             \u001b[0mfiltered_tb\u001b[0m \u001b[1;33m=\u001b[0m \u001b[0m_process_traceback_frames\u001b[0m\u001b[1;33m(\u001b[0m\u001b[0me\u001b[0m\u001b[1;33m.\u001b[0m\u001b[0m__traceback__\u001b[0m\u001b[1;33m)\u001b[0m\u001b[1;33m\u001b[0m\u001b[1;33m\u001b[0m\u001b[0m\n",
      "\u001b[1;32m~\\anaconda3\\lib\\site-packages\\keras\\engine\\training.py\u001b[0m in \u001b[0;36mfit\u001b[1;34m(self, x, y, batch_size, epochs, verbose, callbacks, validation_split, validation_data, shuffle, class_weight, sample_weight, initial_epoch, steps_per_epoch, validation_steps, validation_batch_size, validation_freq, max_queue_size, workers, use_multiprocessing)\u001b[0m\n\u001b[0;32m   1562\u001b[0m                         ):\n\u001b[0;32m   1563\u001b[0m                             \u001b[0mcallbacks\u001b[0m\u001b[1;33m.\u001b[0m\u001b[0mon_train_batch_begin\u001b[0m\u001b[1;33m(\u001b[0m\u001b[0mstep\u001b[0m\u001b[1;33m)\u001b[0m\u001b[1;33m\u001b[0m\u001b[1;33m\u001b[0m\u001b[0m\n\u001b[1;32m-> 1564\u001b[1;33m                             \u001b[0mtmp_logs\u001b[0m \u001b[1;33m=\u001b[0m \u001b[0mself\u001b[0m\u001b[1;33m.\u001b[0m\u001b[0mtrain_function\u001b[0m\u001b[1;33m(\u001b[0m\u001b[0miterator\u001b[0m\u001b[1;33m)\u001b[0m\u001b[1;33m\u001b[0m\u001b[1;33m\u001b[0m\u001b[0m\n\u001b[0m\u001b[0;32m   1565\u001b[0m                             \u001b[1;32mif\u001b[0m \u001b[0mdata_handler\u001b[0m\u001b[1;33m.\u001b[0m\u001b[0mshould_sync\u001b[0m\u001b[1;33m:\u001b[0m\u001b[1;33m\u001b[0m\u001b[1;33m\u001b[0m\u001b[0m\n\u001b[0;32m   1566\u001b[0m                                 \u001b[0mcontext\u001b[0m\u001b[1;33m.\u001b[0m\u001b[0masync_wait\u001b[0m\u001b[1;33m(\u001b[0m\u001b[1;33m)\u001b[0m\u001b[1;33m\u001b[0m\u001b[1;33m\u001b[0m\u001b[0m\n",
      "\u001b[1;32m~\\anaconda3\\lib\\site-packages\\tensorflow\\python\\util\\traceback_utils.py\u001b[0m in \u001b[0;36merror_handler\u001b[1;34m(*args, **kwargs)\u001b[0m\n\u001b[0;32m    148\u001b[0m     \u001b[0mfiltered_tb\u001b[0m \u001b[1;33m=\u001b[0m \u001b[1;32mNone\u001b[0m\u001b[1;33m\u001b[0m\u001b[1;33m\u001b[0m\u001b[0m\n\u001b[0;32m    149\u001b[0m     \u001b[1;32mtry\u001b[0m\u001b[1;33m:\u001b[0m\u001b[1;33m\u001b[0m\u001b[1;33m\u001b[0m\u001b[0m\n\u001b[1;32m--> 150\u001b[1;33m       \u001b[1;32mreturn\u001b[0m \u001b[0mfn\u001b[0m\u001b[1;33m(\u001b[0m\u001b[1;33m*\u001b[0m\u001b[0margs\u001b[0m\u001b[1;33m,\u001b[0m \u001b[1;33m**\u001b[0m\u001b[0mkwargs\u001b[0m\u001b[1;33m)\u001b[0m\u001b[1;33m\u001b[0m\u001b[1;33m\u001b[0m\u001b[0m\n\u001b[0m\u001b[0;32m    151\u001b[0m     \u001b[1;32mexcept\u001b[0m \u001b[0mException\u001b[0m \u001b[1;32mas\u001b[0m \u001b[0me\u001b[0m\u001b[1;33m:\u001b[0m\u001b[1;33m\u001b[0m\u001b[1;33m\u001b[0m\u001b[0m\n\u001b[0;32m    152\u001b[0m       \u001b[0mfiltered_tb\u001b[0m \u001b[1;33m=\u001b[0m \u001b[0m_process_traceback_frames\u001b[0m\u001b[1;33m(\u001b[0m\u001b[0me\u001b[0m\u001b[1;33m.\u001b[0m\u001b[0m__traceback__\u001b[0m\u001b[1;33m)\u001b[0m\u001b[1;33m\u001b[0m\u001b[1;33m\u001b[0m\u001b[0m\n",
      "\u001b[1;32m~\\anaconda3\\lib\\site-packages\\tensorflow\\python\\eager\\def_function.py\u001b[0m in \u001b[0;36m__call__\u001b[1;34m(self, *args, **kwds)\u001b[0m\n\u001b[0;32m    913\u001b[0m \u001b[1;33m\u001b[0m\u001b[0m\n\u001b[0;32m    914\u001b[0m       \u001b[1;32mwith\u001b[0m \u001b[0mOptionalXlaContext\u001b[0m\u001b[1;33m(\u001b[0m\u001b[0mself\u001b[0m\u001b[1;33m.\u001b[0m\u001b[0m_jit_compile\u001b[0m\u001b[1;33m)\u001b[0m\u001b[1;33m:\u001b[0m\u001b[1;33m\u001b[0m\u001b[1;33m\u001b[0m\u001b[0m\n\u001b[1;32m--> 915\u001b[1;33m         \u001b[0mresult\u001b[0m \u001b[1;33m=\u001b[0m \u001b[0mself\u001b[0m\u001b[1;33m.\u001b[0m\u001b[0m_call\u001b[0m\u001b[1;33m(\u001b[0m\u001b[1;33m*\u001b[0m\u001b[0margs\u001b[0m\u001b[1;33m,\u001b[0m \u001b[1;33m**\u001b[0m\u001b[0mkwds\u001b[0m\u001b[1;33m)\u001b[0m\u001b[1;33m\u001b[0m\u001b[1;33m\u001b[0m\u001b[0m\n\u001b[0m\u001b[0;32m    916\u001b[0m \u001b[1;33m\u001b[0m\u001b[0m\n\u001b[0;32m    917\u001b[0m       \u001b[0mnew_tracing_count\u001b[0m \u001b[1;33m=\u001b[0m \u001b[0mself\u001b[0m\u001b[1;33m.\u001b[0m\u001b[0mexperimental_get_tracing_count\u001b[0m\u001b[1;33m(\u001b[0m\u001b[1;33m)\u001b[0m\u001b[1;33m\u001b[0m\u001b[1;33m\u001b[0m\u001b[0m\n",
      "\u001b[1;32m~\\anaconda3\\lib\\site-packages\\tensorflow\\python\\eager\\def_function.py\u001b[0m in \u001b[0;36m_call\u001b[1;34m(self, *args, **kwds)\u001b[0m\n\u001b[0;32m    978\u001b[0m         \u001b[1;31m# Lifting succeeded, so variables are initialized and we can run the\u001b[0m\u001b[1;33m\u001b[0m\u001b[1;33m\u001b[0m\u001b[0m\n\u001b[0;32m    979\u001b[0m         \u001b[1;31m# stateless function.\u001b[0m\u001b[1;33m\u001b[0m\u001b[1;33m\u001b[0m\u001b[0m\n\u001b[1;32m--> 980\u001b[1;33m         \u001b[1;32mreturn\u001b[0m \u001b[0mself\u001b[0m\u001b[1;33m.\u001b[0m\u001b[0m_stateless_fn\u001b[0m\u001b[1;33m(\u001b[0m\u001b[1;33m*\u001b[0m\u001b[0margs\u001b[0m\u001b[1;33m,\u001b[0m \u001b[1;33m**\u001b[0m\u001b[0mkwds\u001b[0m\u001b[1;33m)\u001b[0m\u001b[1;33m\u001b[0m\u001b[1;33m\u001b[0m\u001b[0m\n\u001b[0m\u001b[0;32m    981\u001b[0m     \u001b[1;32melse\u001b[0m\u001b[1;33m:\u001b[0m\u001b[1;33m\u001b[0m\u001b[1;33m\u001b[0m\u001b[0m\n\u001b[0;32m    982\u001b[0m       _, _, filtered_flat_args = (\n",
      "\u001b[1;32m~\\anaconda3\\lib\\site-packages\\tensorflow\\python\\eager\\function.py\u001b[0m in \u001b[0;36m__call__\u001b[1;34m(self, *args, **kwargs)\u001b[0m\n\u001b[0;32m   2494\u001b[0m       (graph_function,\n\u001b[0;32m   2495\u001b[0m        filtered_flat_args) = self._maybe_define_function(args, kwargs)\n\u001b[1;32m-> 2496\u001b[1;33m     return graph_function._call_flat(\n\u001b[0m\u001b[0;32m   2497\u001b[0m         filtered_flat_args, captured_inputs=graph_function.captured_inputs)  # pylint: disable=protected-access\n\u001b[0;32m   2498\u001b[0m \u001b[1;33m\u001b[0m\u001b[0m\n",
      "\u001b[1;32m~\\anaconda3\\lib\\site-packages\\tensorflow\\python\\eager\\function.py\u001b[0m in \u001b[0;36m_call_flat\u001b[1;34m(self, args, captured_inputs, cancellation_manager)\u001b[0m\n\u001b[0;32m   1860\u001b[0m         and executing_eagerly):\n\u001b[0;32m   1861\u001b[0m       \u001b[1;31m# No tape is watching; skip to running the function.\u001b[0m\u001b[1;33m\u001b[0m\u001b[1;33m\u001b[0m\u001b[0m\n\u001b[1;32m-> 1862\u001b[1;33m       return self._build_call_outputs(self._inference_function.call(\n\u001b[0m\u001b[0;32m   1863\u001b[0m           ctx, args, cancellation_manager=cancellation_manager))\n\u001b[0;32m   1864\u001b[0m     forward_backward = self._select_forward_and_backward_functions(\n",
      "\u001b[1;32m~\\anaconda3\\lib\\site-packages\\tensorflow\\python\\eager\\function.py\u001b[0m in \u001b[0;36mcall\u001b[1;34m(self, ctx, args, cancellation_manager)\u001b[0m\n\u001b[0;32m    497\u001b[0m       \u001b[1;32mwith\u001b[0m \u001b[0m_InterpolateFunctionError\u001b[0m\u001b[1;33m(\u001b[0m\u001b[0mself\u001b[0m\u001b[1;33m)\u001b[0m\u001b[1;33m:\u001b[0m\u001b[1;33m\u001b[0m\u001b[1;33m\u001b[0m\u001b[0m\n\u001b[0;32m    498\u001b[0m         \u001b[1;32mif\u001b[0m \u001b[0mcancellation_manager\u001b[0m \u001b[1;32mis\u001b[0m \u001b[1;32mNone\u001b[0m\u001b[1;33m:\u001b[0m\u001b[1;33m\u001b[0m\u001b[1;33m\u001b[0m\u001b[0m\n\u001b[1;32m--> 499\u001b[1;33m           outputs = execute.execute(\n\u001b[0m\u001b[0;32m    500\u001b[0m               \u001b[0mstr\u001b[0m\u001b[1;33m(\u001b[0m\u001b[0mself\u001b[0m\u001b[1;33m.\u001b[0m\u001b[0msignature\u001b[0m\u001b[1;33m.\u001b[0m\u001b[0mname\u001b[0m\u001b[1;33m)\u001b[0m\u001b[1;33m,\u001b[0m\u001b[1;33m\u001b[0m\u001b[1;33m\u001b[0m\u001b[0m\n\u001b[0;32m    501\u001b[0m               \u001b[0mnum_outputs\u001b[0m\u001b[1;33m=\u001b[0m\u001b[0mself\u001b[0m\u001b[1;33m.\u001b[0m\u001b[0m_num_outputs\u001b[0m\u001b[1;33m,\u001b[0m\u001b[1;33m\u001b[0m\u001b[1;33m\u001b[0m\u001b[0m\n",
      "\u001b[1;32m~\\anaconda3\\lib\\site-packages\\tensorflow\\python\\eager\\execute.py\u001b[0m in \u001b[0;36mquick_execute\u001b[1;34m(op_name, num_outputs, inputs, attrs, ctx, name)\u001b[0m\n\u001b[0;32m     52\u001b[0m   \u001b[1;32mtry\u001b[0m\u001b[1;33m:\u001b[0m\u001b[1;33m\u001b[0m\u001b[1;33m\u001b[0m\u001b[0m\n\u001b[0;32m     53\u001b[0m     \u001b[0mctx\u001b[0m\u001b[1;33m.\u001b[0m\u001b[0mensure_initialized\u001b[0m\u001b[1;33m(\u001b[0m\u001b[1;33m)\u001b[0m\u001b[1;33m\u001b[0m\u001b[1;33m\u001b[0m\u001b[0m\n\u001b[1;32m---> 54\u001b[1;33m     tensors = pywrap_tfe.TFE_Py_Execute(ctx._handle, device_name, op_name,\n\u001b[0m\u001b[0;32m     55\u001b[0m                                         inputs, attrs, num_outputs)\n\u001b[0;32m     56\u001b[0m   \u001b[1;32mexcept\u001b[0m \u001b[0mcore\u001b[0m\u001b[1;33m.\u001b[0m\u001b[0m_NotOkStatusException\u001b[0m \u001b[1;32mas\u001b[0m \u001b[0me\u001b[0m\u001b[1;33m:\u001b[0m\u001b[1;33m\u001b[0m\u001b[1;33m\u001b[0m\u001b[0m\n",
      "\u001b[1;31mKeyboardInterrupt\u001b[0m: "
     ]
    }
   ],
   "source": [
    "callback = baseline.fit(X_train,Y_train,epochs=epochs ,validation_data=(X_test,Y_test))"
   ]
  },
  {
   "cell_type": "markdown",
   "id": "14acbd6d-c3b3-4aa6-bf3e-cf63981dcd81",
   "metadata": {},
   "source": [
    "<h4>Loss Curves - Baseline"
   ]
  },
  {
   "cell_type": "code",
   "execution_count": null,
   "id": "771d059c-a0ba-4862-9e8d-18fdfd1ebd17",
   "metadata": {
    "jupyter": {
     "source_hidden": true
    },
    "tags": []
   },
   "outputs": [],
   "source": [
    "tl = callback.history['loss']\n",
    "vl = callback.history['val_loss']"
   ]
  },
  {
   "cell_type": "code",
   "execution_count": null,
   "id": "202b2035-14ce-4caa-aa3b-93d38bf242e1",
   "metadata": {
    "jupyter": {
     "source_hidden": true
    },
    "tags": []
   },
   "outputs": [],
   "source": [
    "df_train = pd.DataFrame({\"training loss\":tl,\"validation loss\":vl}) # store baseline training/validation data in a dataframe"
   ]
  },
  {
   "cell_type": "code",
   "execution_count": null,
   "id": "7415ae64-e020-476c-b827-e91e8afc753d",
   "metadata": {
    "jupyter": {
     "source_hidden": true
    },
    "tags": []
   },
   "outputs": [],
   "source": [
    "sns.lineplot(data= df_train).set(xlabel=\"Epochs\", ylabel=\"Loss\") # Looks like the model is overfitting!\n",
    "plt.suptitle(t=\"Loss Curves\")\n",
    "plt.show()"
   ]
  },
  {
   "cell_type": "markdown",
   "id": "4bd4a395-a8fb-4cdb-b745-70b2aa7243c2",
   "metadata": {},
   "source": [
    "<h4> Confusion Matrix - Baseline"
   ]
  },
  {
   "cell_type": "code",
   "execution_count": null,
   "id": "3c9f6b0e-b3a4-4d66-83bb-bc829ad32eea",
   "metadata": {
    "tags": []
   },
   "outputs": [],
   "source": [
    "def Print_Confusion_Matrix(confusion_matrix, class_names, figsize = (10,7), fontsize=14):\n",
    "    df_cm = pd.DataFrame(\n",
    "        confusion_matrix, index=class_names, columns=class_names, \n",
    "    )\n",
    "    fig = plt.figure(figsize=figsize)\n",
    "    try:\n",
    "        heatmap = sns.heatmap(df_cm,  cmap=\"BuPu\", annot=True, fmt=\"d\")\n",
    "    except ValueError:\n",
    "        raise ValueError(\"Confusion matrix values must be integers.\")\n",
    "    heatmap.yaxis.set_ticklabels(heatmap.yaxis.get_ticklabels(), rotation=0, ha='right', fontsize=fontsize)\n",
    "    heatmap.xaxis.set_ticklabels(heatmap.xaxis.get_ticklabels(), rotation=45, ha='right', fontsize=fontsize)\n",
    "    plt.ylabel('Actual')\n",
    "    plt.xlabel('Prediction')"
   ]
  },
  {
   "cell_type": "code",
   "execution_count": null,
   "id": "2b1c35ae-7dfa-44ec-8166-4ea24c3ba6ee",
   "metadata": {
    "tags": []
   },
   "outputs": [],
   "source": [
    "def GetTrainPredAct(model): \n",
    "    predictions = model.predict(X_train)\n",
    "    actuals = Y_train\n",
    "    return predictions, actuals"
   ]
  },
  {
   "cell_type": "code",
   "execution_count": null,
   "id": "342011ac-cecc-47f2-ad6e-8951f5757c77",
   "metadata": {
    "tags": []
   },
   "outputs": [],
   "source": [
    "def GetTestPredAct(model): \n",
    "    predictions = model.predict(X_test)\n",
    "    actuals = Y_test\n",
    "    return predictions, actuals"
   ]
  },
  {
   "cell_type": "code",
   "execution_count": null,
   "id": "73ebb8ea-f375-435b-9cab-12d71bcc7296",
   "metadata": {
    "tags": []
   },
   "outputs": [],
   "source": [
    "def Condense(predictions, actuals):\n",
    "    return np.argmax(predictions,axis=1), np.argmax(actuals,axis=1)"
   ]
  },
  {
   "cell_type": "code",
   "execution_count": null,
   "id": "c18fdb7c-5012-4ac7-983b-e10af90958b7",
   "metadata": {
    "tags": []
   },
   "outputs": [],
   "source": [
    "predictions, actuals = GetTestPredAct(baseline)"
   ]
  },
  {
   "cell_type": "code",
   "execution_count": null,
   "id": "c281b118-85ca-43d9-8313-934903c5d0db",
   "metadata": {
    "tags": []
   },
   "outputs": [],
   "source": [
    "con_predictions , con_actuals = Condense(predictions,actuals) "
   ]
  },
  {
   "cell_type": "code",
   "execution_count": null,
   "id": "3d1527c6-e962-4d84-b8cb-cdb7d1c48473",
   "metadata": {
    "tags": []
   },
   "outputs": [],
   "source": [
    "cm = confusion_matrix(con_actuals,con_predictions) "
   ]
  },
  {
   "cell_type": "code",
   "execution_count": null,
   "id": "8e49206a-52b3-41e0-b1fb-2d9b0810275d",
   "metadata": {
    "tags": []
   },
   "outputs": [],
   "source": [
    "Print_Confusion_Matrix(cm,ohe.categories_) "
   ]
  },
  {
   "cell_type": "markdown",
   "id": "481a9d24-82fa-4f41-9f09-2c5267d41cb8",
   "metadata": {},
   "source": [
    "<h4>Most Confusing Image To Predict"
   ]
  },
  {
   "cell_type": "code",
   "execution_count": null,
   "id": "d72d1f74-d532-46a5-a7b8-22066348f222",
   "metadata": {
    "tags": []
   },
   "outputs": [],
   "source": [
    "def GetIndices(predictions,actual):\n",
    "    confiLevel = np.amax(predictions) # get highest pred confidence\n",
    "    for r in range(len(predictions)):\n",
    "        if confiLevel in predictions[r]:  # check if subarray to look for the highest prediction score\n",
    "            row = r\n",
    "            for j in range(len(predictions[r])):\n",
    "                if predictions[r][j] == confiLevel:\n",
    "                    predictPosition = j # get the index to see what fruit the model predicted\n",
    "                    break\n",
    "            for i in range(len(actual[r])): # now in the array of the onehotencoded labels, in the corresponding row, get the index of the correct answer\n",
    "                if actual[r][i] == 1:\n",
    "                    actualPosition = i\n",
    "                    break\n",
    "            break\n",
    "    return predictPosition,actualPosition,row"
   ]
  },
  {
   "cell_type": "code",
   "execution_count": null,
   "id": "eeeb1ab5-a51d-4dd4-aa7e-a88bdf0b1c4b",
   "metadata": {
    "tags": []
   },
   "outputs": [],
   "source": [
    "def ComparePA(predictPosition,actualPosition):\n",
    "    if predictPosition == actualPosition:\n",
    "        return True\n",
    "    else: \n",
    "        return False"
   ]
  },
  {
   "cell_type": "code",
   "execution_count": null,
   "id": "ddc2e052-6043-4deb-bb6c-54548dddca82",
   "metadata": {
    "tags": []
   },
   "outputs": [],
   "source": [
    "def GetMostConfused(predictions,actuals,paths):\n",
    "    categories = ['apple','banana','mixed','orange']\n",
    "    found = False\n",
    "\n",
    "    while(found==False):\n",
    "        if len(predictions)==0:\n",
    "            return None\n",
    "        predictPosition, actualPosition, row = GetIndices(predictions,actuals)\n",
    "        if(ComparePA(predictPosition,actualPosition)): # if model's highest scored prediction is correct, then remove that fruit(row) from predictions, actuals and paths\n",
    "            predictions = np.delete(predictions,row,0) # we are looking for the highest scored but wrong prediction\n",
    "            actuals = np.delete(actuals,row,0)\n",
    "            paths = np.delete(paths,row,0)\n",
    "        else: found = True\n",
    "\n",
    "\n",
    "    predictedFruit = categories[predictPosition]\n",
    "    actualFruit = categories[actualPosition]\n",
    "    confidence = predictions[row][predictPosition] \n",
    "    path = paths[row]\n",
    "\n",
    "\n",
    "    return  predictedFruit, actualFruit, confidence, path "
   ]
  },
  {
   "cell_type": "code",
   "execution_count": null,
   "id": "0237a36d-1d79-45ea-a3b4-eb713c3d37a9",
   "metadata": {
    "tags": []
   },
   "outputs": [],
   "source": [
    "def ShowImage(mostConfused):\n",
    "    if mostConfused==None:\n",
    "        print(\"No image to show = Model not confused!\")\n",
    "    else:\n",
    "        img = plt.imshow(image.load_img(mostConfused[3]))\n",
    "        plt.title(f\"Predicted: {mostConfused[0].upper()} \\\\\\ Actual: {mostConfused[1].upper()} \\\\\\ Probability: {mostConfused[2]}\")\n",
    "        return img"
   ]
  },
  {
   "cell_type": "code",
   "execution_count": null,
   "id": "0da0b0b3",
   "metadata": {
    "tags": []
   },
   "outputs": [],
   "source": [
    "def ShowSecret():\n",
    "     img = plt.imshow(image.load_img(r'Data\\Private\\secretpictures.jpg'))"
   ]
  },
  {
   "cell_type": "code",
   "execution_count": null,
   "id": "82ad63a7-dcdb-4c70-aca3-0dd6159c77e1",
   "metadata": {
    "tags": []
   },
   "outputs": [],
   "source": [
    "mc = GetMostConfused(predictions,actuals,test_image_paths) # returns an the single most confused image - the model predicted wrongly and has the highest prediction score w.r.t the image"
   ]
  },
  {
   "cell_type": "code",
   "execution_count": null,
   "id": "60bc967d-9444-4165-94a9-f9e448c62b38",
   "metadata": {
    "tags": []
   },
   "outputs": [],
   "source": [
    "ShowImage(mc) # The probability value shows how much the model believes its prediction\n",
    "plt.show()"
   ]
  },
  {
   "cell_type": "code",
   "execution_count": null,
   "id": "97b8c7d2-00f3-4e9b-9908-9f1508026304",
   "metadata": {},
   "outputs": [],
   "source": [
    "from skimage import io\n",
    "io.imshow(r'Data\\train3\\mixed\\mixed_24.jpg')"
   ]
  },
  {
   "cell_type": "markdown",
   "id": "d623cd47-0b2e-4c26-bb0d-3b298f37dfe3",
   "metadata": {},
   "source": [
    "<h2> Data Preprocessing"
   ]
  },
  {
   "cell_type": "markdown",
   "id": "5a36de54-0ed8-4996-9d06-6360599173ec",
   "metadata": {},
   "source": [
    "<h4> First Stage - Correct Mislabelling"
   ]
  },
  {
   "cell_type": "code",
   "execution_count": null,
   "id": "101b35fb-815c-4c33-ac6e-8ae1e0a4c972",
   "metadata": {},
   "outputs": [],
   "source": [
    "trainpath = ['Data\\\\train2']"
   ]
  },
  {
   "cell_type": "code",
   "execution_count": null,
   "id": "9f38b45a-3cf0-47fb-b90f-f88ab38efe8c",
   "metadata": {},
   "outputs": [],
   "source": [
    "def GetPreProImages(trainpath):\n",
    "    image_paths = []\n",
    "    for image in os.listdir(trainpath[0]):\n",
    "        image_path = os.path.join(trainpath[0],image)\n",
    "        if image[0] == '.': # not including hidden files\n",
    "            continue\n",
    "        else:\n",
    "            image_paths.append(image_path) \n",
    "    # for image in os.listdir(trainpath[1]):\n",
    "    #     image_path = os.path.join(trainpath[1],image)\n",
    "    #     if image[0] == '.': # not including hidden files\n",
    "    #         continue\n",
    "    #     else:\n",
    "    #         image_paths.append(image_path) \n",
    "    return image_paths"
   ]
  },
  {
   "cell_type": "markdown",
   "id": "0f8dafa5-bbbf-43b7-b8e0-beab8fc46fda",
   "metadata": {},
   "source": [
    "<h4> Second Stage - Balance out the number of samples in each class"
   ]
  },
  {
   "cell_type": "markdown",
   "id": "c6347189-1bcc-4b68-8738-31b19d56644f",
   "metadata": {},
   "source": [
    "Accuracy --> Total images increased from 224 ?? Accuracy = 0.9 Loss --> 0.38"
   ]
  },
  {
   "cell_type": "markdown",
   "id": "562dc32a-cf61-4239-b534-f326e3348d6d",
   "metadata": {},
   "source": [
    "<h4> Third Stage - Image augmentation"
   ]
  },
  {
   "cell_type": "code",
   "execution_count": null,
   "id": "4b0e960f-829f-4400-80f3-fcc535b79019",
   "metadata": {},
   "outputs": [],
   "source": [
    "def augment(imagex, label):\n",
    "    imagex = tf.image.random_flip_left_right(imagex)\n",
    "    imagex = tf.image.random_flip_up_down(imagex)\n",
    "    imagex = tf.image.random_brightness(imagex, 0.009,0.01) # delta=0.01)\n",
    "    imagex = tf.image.random_contrast(imagex, 1,1.2) #, contrast_factor=1.75)\n",
    "    return (imagex, label)"
   ]
  },
  {
   "cell_type": "code",
   "execution_count": null,
   "id": "8a3d301e-1283-4d3c-8271-d4f8bea3497b",
   "metadata": {},
   "outputs": [],
   "source": [
    "train_dataset = tf.keras.utils.image_dataset_from_directory('Data//train2', color_mode='rgb', batch_size=16,image_size=(224,224), seed=42, shuffle=True, label_mode='categorical')"
   ]
  },
  {
   "cell_type": "code",
   "execution_count": null,
   "id": "a10934fa-9ac8-4bdf-bb62-1431dde14132",
   "metadata": {},
   "outputs": [],
   "source": [
    "val_dataset = tf.keras.utils.image_dataset_from_directory('Data//test', color_mode='rgb', batch_size=16,image_size=(224,224), seed=42, shuffle=False, label_mode='categorical')"
   ]
  },
  {
   "cell_type": "code",
   "execution_count": null,
   "id": "de00ccbd-ed17-406d-ae51-15b2d571ac8d",
   "metadata": {},
   "outputs": [],
   "source": [
    "train_dataset = train_dataset.map(augment, num_parallel_calls = tf.data.AUTOTUNE)\n",
    "iterator = iter(train_dataset)"
   ]
  },
  {
   "cell_type": "code",
   "execution_count": null,
   "id": "09018daa-6d6c-45a4-a37c-dbcd0e6967bf",
   "metadata": {},
   "outputs": [],
   "source": [
    "plt.imshow(next(iterator)[0][0].numpy().astype(np.uint32))\n"
   ]
  },
  {
   "cell_type": "code",
   "execution_count": null,
   "id": "5464f9ed-91c1-4d84-8db6-6aa5c830ffd3",
   "metadata": {},
   "outputs": [],
   "source": [
    "train_dataset = train_dataset.prefetch(tf.data.AUTOTUNE)\n",
    "train_dataset"
   ]
  },
  {
   "cell_type": "code",
   "execution_count": null,
   "id": "4553252a-9420-419f-8525-bdf7633ee171",
   "metadata": {},
   "outputs": [],
   "source": [
    "val_dataset = val_dataset.prefetch(tf.data.AUTOTUNE)\n",
    "val_dataset"
   ]
  },
  {
   "cell_type": "code",
   "execution_count": 29,
   "id": "eccbcef4-af3a-4afc-a060-b7a3930e263e",
   "metadata": {},
   "outputs": [
    {
     "name": "stdout",
     "output_type": "stream",
     "text": [
      "Found 270 images belonging to 4 classes.\n",
      "Found 60 images belonging to 4 classes.\n"
     ]
    }
   ],
   "source": [
    "from tensorflow.keras.preprocessing.image import ImageDataGenerator\n",
    "train_datagen = ImageDataGenerator(\n",
    "    rescale=1./255,\n",
    "    rotation_range = 45,\n",
    "    width_shift_range=0.2,\n",
    "    height_shift_range=0.2,\n",
    "    shear_range=0.2,\n",
    "    zoom_range=0.2,\n",
    "    horizontal_flip=True,\n",
    "    fill_mode='reflect', cval=125)\n",
    "test_datagen = ImageDataGenerator(rescale=1./255)\n",
    "train_generator = train_datagen.flow_from_directory(\n",
    "        'data/train3',\n",
    "        target_size=(224, 224),\n",
    "        batch_size=32,\n",
    "        class_mode='categorical')\n",
    "validation_generator = test_datagen.flow_from_directory(\n",
    "        'data/test',\n",
    "        target_size=(224, 224),\n",
    "        batch_size=32,\n",
    "        class_mode='categorical')"
   ]
  },
  {
   "cell_type": "markdown",
   "id": "188830dc-2ea1-42b3-b421-cd5978186125",
   "metadata": {},
   "source": [
    "<h4> Fourth Stage - Prepare images"
   ]
  },
  {
   "cell_type": "code",
   "execution_count": null,
   "id": "f3b5c793-0523-4dc9-8368-ad96d663007f",
   "metadata": {},
   "outputs": [],
   "source": [
    "image_paths = GetPreProImages(trainpath)"
   ]
  },
  {
   "cell_type": "code",
   "execution_count": null,
   "id": "3f79d1c0-cfda-433e-be98-f86e63bac1ef",
   "metadata": {},
   "outputs": [],
   "source": [
    "df = CreateDataFrame(image_paths)"
   ]
  },
  {
   "cell_type": "code",
   "execution_count": null,
   "id": "8c3b809c-d6e2-489c-b4ec-801fae414934",
   "metadata": {},
   "outputs": [],
   "source": [
    "image_paths = RemoveOutliers(df)"
   ]
  },
  {
   "cell_type": "code",
   "execution_count": null,
   "id": "dc5e12f9-2fdd-4f29-8e83-4dc4119b28e1",
   "metadata": {},
   "outputs": [],
   "source": [
    "X_train = ProcessImages(image_paths)"
   ]
  },
  {
   "cell_type": "code",
   "execution_count": null,
   "id": "8ec3bf5f-ebea-4cdf-977b-707a109d85fa",
   "metadata": {},
   "outputs": [],
   "source": [
    "ohe, Y_train = GetLabels(image_paths)"
   ]
  },
  {
   "cell_type": "markdown",
   "id": "39b25f6e-4f8b-4c04-9250-02d08d16b8a4",
   "metadata": {},
   "source": [
    "<h2>Create Model "
   ]
  },
  {
   "cell_type": "code",
   "execution_count": 38,
   "id": "d4c87fb2",
   "metadata": {
    "tags": []
   },
   "outputs": [],
   "source": [
    "n1 = 32\n",
    "n2 = 32\n",
    "n3 = 64 \n",
    "\n",
    "es = EarlyStopping(patience=5, monitor='val_loss') # stops training after 5 epochs if val loss drops"
   ]
  },
  {
   "cell_type": "code",
   "execution_count": 39,
   "id": "e3d7387d",
   "metadata": {
    "tags": []
   },
   "outputs": [],
   "source": [
    "model = Sequential([\n",
    "    tf.keras.layers.Input(shape=(224,224,3)),\n",
    "    Conv2D(n1,(3,3), activation = 'relu'),\n",
    "    Conv2D(n1,(3,3), activation = 'relu'),\n",
    "  #  tf.keras.layers.Dropout(0.2),\n",
    "    MaxPooling2D((2,2),(2,2)),\n",
    "    \n",
    "    Conv2D(n3,(3,3), activation = 'relu'),\n",
    "    Conv2D(n3,(3,3), activation = 'relu'),\n",
    "   # tf.keras.layers.Dropout(0.2),\n",
    "    MaxPooling2D((2,2),(2,2)),\n",
    "    \n",
    "    tf.keras.layers.GlobalAveragePooling2D(),\n",
    "    Dense(n3, activation = 'relu'), # fully connected layer \n",
    "    tf.keras.layers.Dropout(0.2),\n",
    "    Dense(4, activation = 'softmax')\n",
    "])"
   ]
  },
  {
   "cell_type": "code",
   "execution_count": 40,
   "id": "7aaf3e0f",
   "metadata": {
    "tags": []
   },
   "outputs": [],
   "source": [
    "model.compile(loss = 'categorical_crossentropy', optimizer = tf.keras.optimizers.Adam(learning_rate=0.001), metrics = ['accuracy'])"
   ]
  },
  {
   "cell_type": "code",
   "execution_count": 46,
   "id": "2fd90076",
   "metadata": {},
   "outputs": [
    {
     "name": "stdout",
     "output_type": "stream",
     "text": [
      "Epoch 1/100\n",
      "6/9 [===================>..........] - ETA: 2s - loss: 0.0451 - accuracy: 0.9828"
     ]
    },
    {
     "name": "stderr",
     "output_type": "stream",
     "text": [
      "C:\\Users\\bert\\anaconda3\\lib\\site-packages\\PIL\\Image.py:959: UserWarning: Palette images with Transparency expressed in bytes should be converted to RGBA images\n",
      "  warnings.warn(\n"
     ]
    },
    {
     "name": "stdout",
     "output_type": "stream",
     "text": [
      "9/9 [==============================] - 11s 1s/step - loss: 0.0604 - accuracy: 0.9778 - val_loss: 0.0803 - val_accuracy: 0.9833\n",
      "Epoch 2/100\n",
      "9/9 [==============================] - 11s 1s/step - loss: 0.1181 - accuracy: 0.9667 - val_loss: 0.1508 - val_accuracy: 0.9333\n",
      "Epoch 3/100\n",
      "9/9 [==============================] - 11s 1s/step - loss: 0.0979 - accuracy: 0.9593 - val_loss: 0.1284 - val_accuracy: 0.9667\n",
      "Epoch 4/100\n",
      "9/9 [==============================] - 11s 1s/step - loss: 0.0612 - accuracy: 0.9741 - val_loss: 0.1270 - val_accuracy: 0.9333\n",
      "Epoch 5/100\n",
      "9/9 [==============================] - 11s 1s/step - loss: 0.0870 - accuracy: 0.9556 - val_loss: 0.0861 - val_accuracy: 0.9667\n",
      "Epoch 6/100\n",
      "9/9 [==============================] - 11s 1s/step - loss: 0.0592 - accuracy: 0.9815 - val_loss: 0.0903 - val_accuracy: 0.9667\n",
      "Epoch 7/100\n",
      "9/9 [==============================] - 11s 1s/step - loss: 0.0371 - accuracy: 0.9889 - val_loss: 0.0785 - val_accuracy: 0.9833\n",
      "Epoch 8/100\n",
      "9/9 [==============================] - 11s 1s/step - loss: 0.0776 - accuracy: 0.9704 - val_loss: 0.1862 - val_accuracy: 0.9167\n",
      "Epoch 9/100\n",
      "9/9 [==============================] - 11s 1s/step - loss: 0.0578 - accuracy: 0.9741 - val_loss: 0.0848 - val_accuracy: 0.9667\n",
      "Epoch 10/100\n",
      "9/9 [==============================] - 11s 1s/step - loss: 0.0718 - accuracy: 0.9741 - val_loss: 0.2443 - val_accuracy: 0.9333\n",
      "Epoch 11/100\n",
      "9/9 [==============================] - 11s 1s/step - loss: 0.0770 - accuracy: 0.9741 - val_loss: 0.0623 - val_accuracy: 0.9833\n",
      "Epoch 12/100\n",
      "9/9 [==============================] - 11s 1s/step - loss: 0.0369 - accuracy: 0.9889 - val_loss: 0.0965 - val_accuracy: 0.9667\n",
      "Epoch 13/100\n",
      "9/9 [==============================] - 11s 1s/step - loss: 0.0403 - accuracy: 0.9889 - val_loss: 0.1101 - val_accuracy: 0.9667\n",
      "Epoch 14/100\n",
      "9/9 [==============================] - 11s 1s/step - loss: 0.0468 - accuracy: 0.9889 - val_loss: 0.1069 - val_accuracy: 0.9667\n",
      "Epoch 15/100\n",
      "9/9 [==============================] - 11s 1s/step - loss: 0.0387 - accuracy: 0.9889 - val_loss: 0.1036 - val_accuracy: 0.9667\n",
      "Epoch 16/100\n",
      "9/9 [==============================] - 11s 1s/step - loss: 0.0517 - accuracy: 0.9852 - val_loss: 0.1337 - val_accuracy: 0.9667\n",
      "Epoch 17/100\n",
      "9/9 [==============================] - 11s 1s/step - loss: 0.0461 - accuracy: 0.9852 - val_loss: 0.0838 - val_accuracy: 0.9667\n",
      "Epoch 18/100\n",
      "9/9 [==============================] - 11s 1s/step - loss: 0.0794 - accuracy: 0.9667 - val_loss: 0.1078 - val_accuracy: 0.9667\n",
      "Epoch 19/100\n",
      "9/9 [==============================] - 11s 1s/step - loss: 0.0857 - accuracy: 0.9704 - val_loss: 0.0611 - val_accuracy: 0.9667\n",
      "Epoch 20/100\n",
      "9/9 [==============================] - 11s 1s/step - loss: 0.0745 - accuracy: 0.9704 - val_loss: 0.2069 - val_accuracy: 0.9500\n",
      "Epoch 21/100\n",
      "9/9 [==============================] - 11s 1s/step - loss: 0.0799 - accuracy: 0.9741 - val_loss: 0.0941 - val_accuracy: 0.9500\n",
      "Epoch 22/100\n",
      "9/9 [==============================] - 11s 1s/step - loss: 0.0666 - accuracy: 0.9815 - val_loss: 0.2029 - val_accuracy: 0.9333\n",
      "Epoch 23/100\n",
      "9/9 [==============================] - 11s 1s/step - loss: 0.0618 - accuracy: 0.9815 - val_loss: 0.1150 - val_accuracy: 0.9667\n",
      "Epoch 24/100\n",
      "9/9 [==============================] - 10s 1s/step - loss: 0.1096 - accuracy: 0.9630 - val_loss: 0.2292 - val_accuracy: 0.9333\n",
      "Epoch 25/100\n",
      "9/9 [==============================] - 11s 1s/step - loss: 0.0810 - accuracy: 0.9704 - val_loss: 0.1305 - val_accuracy: 0.9667\n",
      "Epoch 26/100\n",
      "9/9 [==============================] - 11s 1s/step - loss: 0.1037 - accuracy: 0.9852 - val_loss: 0.3301 - val_accuracy: 0.9333\n",
      "Epoch 27/100\n",
      "9/9 [==============================] - 11s 1s/step - loss: 0.1245 - accuracy: 0.9741 - val_loss: 0.1039 - val_accuracy: 0.9500\n",
      "Epoch 28/100\n",
      "9/9 [==============================] - 10s 1s/step - loss: 0.1006 - accuracy: 0.9667 - val_loss: 0.1286 - val_accuracy: 0.9667\n",
      "Epoch 29/100\n",
      "9/9 [==============================] - 10s 1s/step - loss: 0.0901 - accuracy: 0.9667 - val_loss: 0.0997 - val_accuracy: 0.9667\n",
      "Epoch 30/100\n",
      "9/9 [==============================] - 11s 1s/step - loss: 0.0945 - accuracy: 0.9630 - val_loss: 0.1157 - val_accuracy: 0.9667\n",
      "Epoch 31/100\n",
      "9/9 [==============================] - 11s 1s/step - loss: 0.0712 - accuracy: 0.9741 - val_loss: 0.1237 - val_accuracy: 0.9500\n",
      "Epoch 32/100\n",
      "9/9 [==============================] - 11s 1s/step - loss: 0.0450 - accuracy: 0.9852 - val_loss: 0.1583 - val_accuracy: 0.9667\n",
      "Epoch 33/100\n",
      "9/9 [==============================] - 11s 1s/step - loss: 0.0586 - accuracy: 0.9815 - val_loss: 0.0894 - val_accuracy: 0.9500\n",
      "Epoch 34/100\n",
      "9/9 [==============================] - 11s 1s/step - loss: 0.0589 - accuracy: 0.9889 - val_loss: 0.1734 - val_accuracy: 0.9167\n",
      "Epoch 35/100\n",
      "9/9 [==============================] - 11s 1s/step - loss: 0.0457 - accuracy: 0.9852 - val_loss: 0.1202 - val_accuracy: 0.9667\n",
      "Epoch 36/100\n",
      "9/9 [==============================] - 11s 1s/step - loss: 0.0549 - accuracy: 0.9778 - val_loss: 0.0845 - val_accuracy: 0.9667\n",
      "Epoch 37/100\n",
      "9/9 [==============================] - 11s 1s/step - loss: 0.0806 - accuracy: 0.9704 - val_loss: 0.1966 - val_accuracy: 0.9333\n",
      "Epoch 38/100\n",
      "9/9 [==============================] - 11s 1s/step - loss: 0.0415 - accuracy: 0.9926 - val_loss: 0.0805 - val_accuracy: 0.9667\n",
      "Epoch 39/100\n",
      "9/9 [==============================] - 11s 1s/step - loss: 0.0460 - accuracy: 0.9963 - val_loss: 0.1154 - val_accuracy: 0.9667\n",
      "Epoch 40/100\n",
      "9/9 [==============================] - 10s 1s/step - loss: 0.0511 - accuracy: 0.9852 - val_loss: 0.0833 - val_accuracy: 0.9667\n",
      "Epoch 41/100\n",
      "9/9 [==============================] - 11s 1s/step - loss: 0.0372 - accuracy: 0.9852 - val_loss: 0.1230 - val_accuracy: 0.9667\n",
      "Epoch 42/100\n",
      "9/9 [==============================] - 11s 1s/step - loss: 0.0349 - accuracy: 0.9852 - val_loss: 0.1168 - val_accuracy: 0.9500\n",
      "Epoch 43/100\n",
      "9/9 [==============================] - 11s 1s/step - loss: 0.0218 - accuracy: 0.9963 - val_loss: 0.1148 - val_accuracy: 0.9667\n",
      "Epoch 44/100\n",
      "9/9 [==============================] - 10s 1s/step - loss: 0.0467 - accuracy: 0.9815 - val_loss: 0.0958 - val_accuracy: 0.9667\n",
      "Epoch 45/100\n",
      "9/9 [==============================] - 10s 1s/step - loss: 0.0668 - accuracy: 0.9741 - val_loss: 0.1449 - val_accuracy: 0.9667\n",
      "Epoch 46/100\n",
      "9/9 [==============================] - 11s 1s/step - loss: 0.0520 - accuracy: 0.9815 - val_loss: 0.0884 - val_accuracy: 0.9833\n",
      "Epoch 47/100\n",
      "9/9 [==============================] - 11s 1s/step - loss: 0.0550 - accuracy: 0.9852 - val_loss: 0.0987 - val_accuracy: 0.9667\n",
      "Epoch 48/100\n",
      "9/9 [==============================] - 11s 1s/step - loss: 0.0519 - accuracy: 0.9852 - val_loss: 0.1284 - val_accuracy: 0.9667\n",
      "Epoch 49/100\n",
      "9/9 [==============================] - 11s 1s/step - loss: 0.0376 - accuracy: 0.9889 - val_loss: 0.0681 - val_accuracy: 0.9667\n",
      "Epoch 50/100\n",
      "9/9 [==============================] - 11s 1s/step - loss: 0.0345 - accuracy: 0.9889 - val_loss: 0.0888 - val_accuracy: 0.9667\n",
      "Epoch 51/100\n",
      "9/9 [==============================] - 11s 1s/step - loss: 0.0358 - accuracy: 0.9815 - val_loss: 0.0747 - val_accuracy: 0.9667\n",
      "Epoch 52/100\n",
      "9/9 [==============================] - 11s 1s/step - loss: 0.0292 - accuracy: 0.9926 - val_loss: 0.1027 - val_accuracy: 0.9667\n",
      "Epoch 53/100\n",
      "9/9 [==============================] - 11s 1s/step - loss: 0.0136 - accuracy: 1.0000 - val_loss: 0.1035 - val_accuracy: 0.9667\n",
      "Epoch 54/100\n",
      "9/9 [==============================] - 11s 1s/step - loss: 0.0358 - accuracy: 0.9852 - val_loss: 0.0983 - val_accuracy: 0.9667\n",
      "Epoch 55/100\n",
      "9/9 [==============================] - 11s 1s/step - loss: 0.0699 - accuracy: 0.9778 - val_loss: 0.1279 - val_accuracy: 0.9667\n",
      "Epoch 56/100\n",
      "9/9 [==============================] - 11s 1s/step - loss: 0.0627 - accuracy: 0.9815 - val_loss: 0.1503 - val_accuracy: 0.9500\n",
      "Epoch 57/100\n",
      "9/9 [==============================] - 11s 1s/step - loss: 0.1028 - accuracy: 0.9630 - val_loss: 0.1085 - val_accuracy: 0.9667\n",
      "Epoch 58/100\n",
      "9/9 [==============================] - 11s 1s/step - loss: 0.0597 - accuracy: 0.9815 - val_loss: 0.0737 - val_accuracy: 0.9667\n",
      "Epoch 59/100\n",
      "9/9 [==============================] - 11s 1s/step - loss: 0.0498 - accuracy: 0.9852 - val_loss: 0.1023 - val_accuracy: 0.9500\n",
      "Epoch 60/100\n",
      "9/9 [==============================] - 11s 1s/step - loss: 0.1019 - accuracy: 0.9667 - val_loss: 0.0377 - val_accuracy: 0.9833\n",
      "Epoch 61/100\n",
      "9/9 [==============================] - 11s 1s/step - loss: 0.0395 - accuracy: 0.9852 - val_loss: 0.0938 - val_accuracy: 0.9500\n",
      "Epoch 62/100\n",
      "9/9 [==============================] - 11s 1s/step - loss: 0.0421 - accuracy: 0.9815 - val_loss: 0.0814 - val_accuracy: 0.9667\n",
      "Epoch 63/100\n",
      "9/9 [==============================] - 11s 1s/step - loss: 0.0456 - accuracy: 0.9778 - val_loss: 0.0796 - val_accuracy: 0.9667\n",
      "Epoch 64/100\n",
      "9/9 [==============================] - 10s 1s/step - loss: 0.0360 - accuracy: 0.9889 - val_loss: 0.1342 - val_accuracy: 0.9500\n",
      "Epoch 65/100\n",
      "9/9 [==============================] - 11s 1s/step - loss: 0.0623 - accuracy: 0.9741 - val_loss: 0.6537 - val_accuracy: 0.9167\n",
      "Epoch 66/100\n",
      "9/9 [==============================] - 11s 1s/step - loss: 0.3575 - accuracy: 0.9370 - val_loss: 0.3590 - val_accuracy: 0.9000\n",
      "Epoch 67/100\n",
      "9/9 [==============================] - 12s 1s/step - loss: 0.3171 - accuracy: 0.8963 - val_loss: 0.1941 - val_accuracy: 0.9500\n",
      "Epoch 68/100\n",
      "9/9 [==============================] - 12s 1s/step - loss: 0.1494 - accuracy: 0.9593 - val_loss: 0.2683 - val_accuracy: 0.8833\n",
      "Epoch 69/100\n",
      "9/9 [==============================] - 12s 1s/step - loss: 0.1893 - accuracy: 0.9370 - val_loss: 0.1593 - val_accuracy: 0.9333\n",
      "Epoch 70/100\n",
      "9/9 [==============================] - 12s 1s/step - loss: 0.1578 - accuracy: 0.9519 - val_loss: 0.1466 - val_accuracy: 0.9667\n",
      "Epoch 71/100\n",
      "9/9 [==============================] - 12s 1s/step - loss: 0.1017 - accuracy: 0.9593 - val_loss: 0.1330 - val_accuracy: 0.9667\n",
      "Epoch 72/100\n",
      "9/9 [==============================] - 11s 1s/step - loss: 0.0480 - accuracy: 0.9852 - val_loss: 0.1043 - val_accuracy: 0.9667\n",
      "Epoch 73/100\n",
      "9/9 [==============================] - 11s 1s/step - loss: 0.0349 - accuracy: 0.9926 - val_loss: 0.1091 - val_accuracy: 0.9667\n",
      "Epoch 74/100\n",
      "9/9 [==============================] - 11s 1s/step - loss: 0.0393 - accuracy: 0.9889 - val_loss: 0.0998 - val_accuracy: 0.9667\n",
      "Epoch 75/100\n",
      "9/9 [==============================] - 11s 1s/step - loss: 0.0324 - accuracy: 0.9889 - val_loss: 0.1113 - val_accuracy: 0.9667\n",
      "Epoch 76/100\n",
      "9/9 [==============================] - 11s 1s/step - loss: 0.0238 - accuracy: 0.9926 - val_loss: 0.0806 - val_accuracy: 0.9667\n",
      "Epoch 77/100\n",
      "9/9 [==============================] - 11s 1s/step - loss: 0.0290 - accuracy: 0.9889 - val_loss: 0.1259 - val_accuracy: 0.9667\n",
      "Epoch 78/100\n",
      "9/9 [==============================] - 11s 1s/step - loss: 0.0212 - accuracy: 0.9926 - val_loss: 0.1086 - val_accuracy: 0.9667\n",
      "Epoch 79/100\n",
      "9/9 [==============================] - 11s 1s/step - loss: 0.0290 - accuracy: 0.9889 - val_loss: 0.2063 - val_accuracy: 0.9167\n",
      "Epoch 80/100\n",
      "9/9 [==============================] - 11s 1s/step - loss: 0.0369 - accuracy: 0.9889 - val_loss: 0.1222 - val_accuracy: 0.9667\n",
      "Epoch 81/100\n",
      "9/9 [==============================] - 11s 1s/step - loss: 0.0949 - accuracy: 0.9519 - val_loss: 0.0816 - val_accuracy: 0.9500\n",
      "Epoch 82/100\n",
      "9/9 [==============================] - 11s 1s/step - loss: 0.0520 - accuracy: 0.9778 - val_loss: 0.0913 - val_accuracy: 0.9667\n",
      "Epoch 83/100\n",
      "9/9 [==============================] - 11s 1s/step - loss: 0.0328 - accuracy: 0.9926 - val_loss: 0.1580 - val_accuracy: 0.9500\n",
      "Epoch 84/100\n",
      "9/9 [==============================] - 11s 1s/step - loss: 0.0692 - accuracy: 0.9630 - val_loss: 0.0850 - val_accuracy: 0.9667\n",
      "Epoch 85/100\n",
      "9/9 [==============================] - 11s 1s/step - loss: 0.0695 - accuracy: 0.9852 - val_loss: 0.1805 - val_accuracy: 0.9500\n",
      "Epoch 86/100\n",
      "9/9 [==============================] - 11s 1s/step - loss: 0.0684 - accuracy: 0.9815 - val_loss: 0.0802 - val_accuracy: 0.9667\n",
      "Epoch 87/100\n",
      "9/9 [==============================] - 11s 1s/step - loss: 0.0414 - accuracy: 0.9815 - val_loss: 0.1250 - val_accuracy: 0.9667\n",
      "Epoch 88/100\n",
      "9/9 [==============================] - 11s 1s/step - loss: 0.0492 - accuracy: 0.9778 - val_loss: 0.0710 - val_accuracy: 0.9667\n",
      "Epoch 89/100\n",
      "9/9 [==============================] - 11s 1s/step - loss: 0.0369 - accuracy: 0.9778 - val_loss: 0.1110 - val_accuracy: 0.9667\n",
      "Epoch 90/100\n",
      "9/9 [==============================] - 11s 1s/step - loss: 0.0327 - accuracy: 0.9926 - val_loss: 0.1232 - val_accuracy: 0.9667\n",
      "Epoch 91/100\n",
      "9/9 [==============================] - 11s 1s/step - loss: 0.0797 - accuracy: 0.9778 - val_loss: 0.1954 - val_accuracy: 0.9500\n",
      "Epoch 92/100\n",
      "9/9 [==============================] - 11s 1s/step - loss: 0.0388 - accuracy: 0.9889 - val_loss: 0.1130 - val_accuracy: 0.9667\n",
      "Epoch 93/100\n",
      "9/9 [==============================] - 11s 1s/step - loss: 0.0221 - accuracy: 0.9926 - val_loss: 0.1162 - val_accuracy: 0.9667\n",
      "Epoch 94/100\n",
      "9/9 [==============================] - 12s 1s/step - loss: 0.0363 - accuracy: 0.9778 - val_loss: 0.1165 - val_accuracy: 0.9667\n",
      "Epoch 95/100\n",
      "9/9 [==============================] - 11s 1s/step - loss: 0.0231 - accuracy: 0.9926 - val_loss: 0.1349 - val_accuracy: 0.9667\n",
      "Epoch 96/100\n",
      "9/9 [==============================] - 11s 1s/step - loss: 0.0309 - accuracy: 0.9926 - val_loss: 0.0689 - val_accuracy: 0.9667\n",
      "Epoch 97/100\n",
      "9/9 [==============================] - 11s 1s/step - loss: 0.0331 - accuracy: 0.9852 - val_loss: 0.1367 - val_accuracy: 0.9667\n",
      "Epoch 98/100\n",
      "9/9 [==============================] - 11s 1s/step - loss: 0.0359 - accuracy: 0.9926 - val_loss: 0.1065 - val_accuracy: 0.9667\n",
      "Epoch 99/100\n",
      "9/9 [==============================] - 11s 1s/step - loss: 0.0528 - accuracy: 0.9778 - val_loss: 0.0564 - val_accuracy: 0.9667\n",
      "Epoch 100/100\n",
      "9/9 [==============================] - 11s 1s/step - loss: 0.0248 - accuracy: 0.9889 - val_loss: 0.1511 - val_accuracy: 0.9667\n"
     ]
    }
   ],
   "source": [
    "callback = model.fit(train_generator,epochs=100 ,validation_data=validation_generator)"
   ]
  },
  {
   "cell_type": "code",
   "execution_count": null,
   "id": "2679ddb5",
   "metadata": {},
   "outputs": [],
   "source": [
    "model2 = Sequential([\n",
    "    Conv2D(n1,(3,3), activation ='relu', input_shape=(224,224,3)),\n",
    "    MaxPooling2D((2,2)),\n",
    "    \n",
    "   \n",
    "    Conv2D(n2,(3,3), activation = 'relu'  ),\n",
    "    MaxPooling2D((2,2)),\n",
    "    \n",
    "    Conv2D(n2,(3,3), activation = 'relu'  ),\n",
    "    MaxPooling2D((2,2)),\n",
    "    \n",
    "    tf.keras.layers.GlobalAveragePooling2D(),\n",
    "    Dense(n3, activation =  'tanh'), # fully connected layer \n",
    "    Dense(4, activation = 'softmax')\n",
    "])"
   ]
  },
  {
   "cell_type": "code",
   "execution_count": null,
   "id": "c8ad01d5",
   "metadata": {},
   "outputs": [],
   "source": [
    "model2.compile(loss = 'categorical_crossentropy', optimizer = 'adam', metrics = ['accuracy'])"
   ]
  },
  {
   "cell_type": "code",
   "execution_count": null,
   "id": "088a73de",
   "metadata": {},
   "outputs": [],
   "source": [
    "callback =  model2.fit(X_train,Y_train,epochs=epochs,validation_data=(X_test,Y_test))"
   ]
  },
  {
   "cell_type": "code",
   "execution_count": null,
   "id": "c7457a03",
   "metadata": {},
   "outputs": [],
   "source": [
    "model3 = Sequential([\n",
    "    Conv2D(n1,(3,3), activation = 'relu', input_shape=(224,224,3)),\n",
    "    MaxPooling2D((2,2)),\n",
    "    \n",
    " \n",
    "    \n",
    "    \n",
    "    Conv2D(n2,(3,3), activation = tf.keras.layers.LeakyReLU(alpha=0.2)),\n",
    "    MaxPooling2D((2,2)),\n",
    "    \n",
    "    Conv2D(n2,(3,3), activation = 'tanh'),\n",
    "    MaxPooling2D((2,2)),\n",
    "    \n",
    "    \n",
    "    tf.keras.layers.GlobalAveragePooling2D(),\n",
    "    Dense(n3, activation = tf.keras.layers.LeakyReLU(alpha=0.2)), # fully connected layer \n",
    "    Dense(4, activation = 'softmax')\n",
    "])"
   ]
  },
  {
   "cell_type": "code",
   "execution_count": null,
   "id": "18e0beea",
   "metadata": {},
   "outputs": [],
   "source": [
    "model3.compile(loss = 'categorical_crossentropy', optimizer = 'adam', metrics = ['accuracy'])"
   ]
  },
  {
   "cell_type": "code",
   "execution_count": null,
   "id": "239c15f8",
   "metadata": {},
   "outputs": [],
   "source": [
    "history_train3 = model3.fit(X_train,Y_train,epochs=epochs, validation_data=(X_test,Y_test))"
   ]
  },
  {
   "cell_type": "markdown",
   "id": "7fa56650-6350-49a4-bb4d-b21d7e912c6e",
   "metadata": {},
   "source": [
    "<h4>Loss Curves"
   ]
  },
  {
   "cell_type": "code",
   "execution_count": 47,
   "id": "ec26a853",
   "metadata": {
    "tags": []
   },
   "outputs": [],
   "source": [
    "tl = callback.history['loss']\n",
    "vl = callback.history['val_loss']"
   ]
  },
  {
   "cell_type": "code",
   "execution_count": 48,
   "id": "c74a61b1",
   "metadata": {
    "tags": []
   },
   "outputs": [],
   "source": [
    "df_train = pd.DataFrame({\"training loss\":tl,\"validation loss\":vl}) # store baseline training/validation data in a dataframe"
   ]
  },
  {
   "cell_type": "code",
   "execution_count": 49,
   "id": "11dd590c",
   "metadata": {
    "jupyter": {
     "source_hidden": true
    },
    "tags": []
   },
   "outputs": [
    {
     "data": {
      "image/png": "[encoded data removed]",
      "text/plain": [
       "<Figure size 640x480 with 1 Axes>"
      ]
     },
     "metadata": {},
     "output_type": "display_data"
    }
   ],
   "source": [
    "sns.lineplot(data= df_train).set(xlabel=\"Epochs\", ylabel=\"Loss\") # Looks like the model is overfitting!\n",
    "plt.suptitle(t=\"Loss Curves\")\n",
    "plt.show()"
   ]
  },
  {
   "cell_type": "markdown",
   "id": "c1a95d71-1ae5-4f48-b101-8ce8b807f912",
   "metadata": {},
   "source": [
    "<h4> Confusion Matrix"
   ]
  },
  {
   "cell_type": "code",
   "execution_count": null,
   "id": "44123909",
   "metadata": {
    "tags": []
   },
   "outputs": [],
   "source": [
    "def Print_Confusion_Matrix(confusion_matrix, class_names, figsize = (10,7), fontsize=14):\n",
    "    df_cm = pd.DataFrame(\n",
    "        confusion_matrix, index=class_names, columns=class_names, \n",
    "    )\n",
    "    fig = plt.figure(figsize=figsize)\n",
    "    try:\n",
    "        heatmap = sns.heatmap(df_cm,  cmap=\"BuPu\", annot=True, fmt=\"d\")\n",
    "    except ValueError:\n",
    "        raise ValueError(\"Confusion matrix values must be integers.\")\n",
    "    heatmap.yaxis.set_ticklabels(heatmap.yaxis.get_ticklabels(), rotation=0, ha='right', fontsize=fontsize)\n",
    "    heatmap.xaxis.set_ticklabels(heatmap.xaxis.get_ticklabels(), rotation=45, ha='right', fontsize=fontsize)\n",
    "    plt.ylabel('Actual')\n",
    "    plt.xlabel('Prediction')"
   ]
  },
  {
   "cell_type": "code",
   "execution_count": null,
   "id": "e78693b8",
   "metadata": {
    "tags": []
   },
   "outputs": [],
   "source": [
    "def GetTestPredAct(model): \n",
    "    predictions = model.predict(X_test)\n",
    "    actuals = Y_test\n",
    "    return predictions, actuals"
   ]
  },
  {
   "cell_type": "code",
   "execution_count": null,
   "id": "acf53b04",
   "metadata": {
    "tags": []
   },
   "outputs": [],
   "source": [
    "def Condense(predictions, actuals):\n",
    "    return np.argmax(predictions,axis=1), np.argmax(actuals,axis=1)"
   ]
  },
  {
   "cell_type": "code",
   "execution_count": null,
   "id": "5a546fe5",
   "metadata": {
    "tags": []
   },
   "outputs": [],
   "source": [
    "predictions, actuals = GetTestPredAct(model)"
   ]
  },
  {
   "cell_type": "code",
   "execution_count": null,
   "id": "42820221",
   "metadata": {
    "tags": []
   },
   "outputs": [],
   "source": [
    "con_predictions , con_actuals = Condense(predictions,actuals) "
   ]
  },
  {
   "cell_type": "code",
   "execution_count": null,
   "id": "2889ecd6",
   "metadata": {
    "tags": []
   },
   "outputs": [],
   "source": [
    "cm = confusion_matrix(con_actuals,con_predictions) "
   ]
  },
  {
   "cell_type": "code",
   "execution_count": null,
   "id": "13561c37",
   "metadata": {
    "tags": []
   },
   "outputs": [],
   "source": [
    "Print_Confusion_Matrix(cm,ohe.categories_) "
   ]
  },
  {
   "cell_type": "markdown",
   "id": "966e5ecc-16be-4f99-b63b-151cdc823dbd",
   "metadata": {},
   "source": [
    "<h4>Most Confusing Image To Predict"
   ]
  },
  {
   "cell_type": "code",
   "execution_count": null,
   "id": "6bad6edd",
   "metadata": {
    "tags": []
   },
   "outputs": [],
   "source": [
    "def GetIndices(predictions,actual):\n",
    "    confiLevel = np.amax(predictions) # get highest pred confidence\n",
    "    for r in range(len(predictions)):\n",
    "        if confiLevel in predictions[r]:  # check if subarray to look for the highest prediction score\n",
    "            row = r\n",
    "            for j in range(len(predictions[r])):\n",
    "                if predictions[r][j] == confiLevel:\n",
    "                    predictPosition = j # get the index to see what fruit the model predicted\n",
    "                    break\n",
    "            for i in range(len(actual[r])): # now in the array of the onehotencoded labels, in the corresponding row, get the index of the correct answer\n",
    "                if actual[r][i] == 1:\n",
    "                    actualPosition = i\n",
    "                    break\n",
    "            break\n",
    "    return predictPosition,actualPosition,row"
   ]
  },
  {
   "cell_type": "code",
   "execution_count": null,
   "id": "2a5a3967",
   "metadata": {
    "tags": []
   },
   "outputs": [],
   "source": [
    "def ComparePA(predictPosition,actualPosition):\n",
    "    if predictPosition == actualPosition:\n",
    "        return True\n",
    "    else: \n",
    "        return False"
   ]
  },
  {
   "cell_type": "code",
   "execution_count": null,
   "id": "a12661ee",
   "metadata": {
    "tags": []
   },
   "outputs": [],
   "source": [
    "def GetMostConfused(predictions,actuals,paths):\n",
    "    categories = ['apple','banana','mixed','orange']\n",
    "    found = False\n",
    "\n",
    "    while(found==False):\n",
    "        if len(predictions)==0:\n",
    "            return None\n",
    "        predictPosition, actualPosition, row = GetIndices(predictions,actuals)\n",
    "        if(ComparePA(predictPosition,actualPosition)): # if model's highest scored prediction is correct, then remove that fruit(row) from predictions, actuals and paths\n",
    "            predictions = np.delete(predictions,row,0) # we are looking for the highest scored but wrong prediction\n",
    "            actuals = np.delete(actuals,row,0)\n",
    "            paths = np.delete(paths,row,0)\n",
    "        else: found = True\n",
    "\n",
    "\n",
    "    predictedFruit = categories[predictPosition]\n",
    "    actualFruit = categories[actualPosition]\n",
    "    confidence = predictions[row][predictPosition] \n",
    "    path = paths[row]\n",
    "\n",
    "\n",
    "    return  predictedFruit, actualFruit, confidence, path "
   ]
  },
  {
   "cell_type": "code",
   "execution_count": null,
   "id": "907e1c16",
   "metadata": {
    "tags": []
   },
   "outputs": [],
   "source": [
    "def ShowImage(mostConfused):\n",
    "    if mostConfused==None:\n",
    "        print(\"No image to show = Model not confused!\")\n",
    "    else:\n",
    "        img = plt.imshow(image.load_img(mostConfused[3]))\n",
    "        plt.title(f\"Predicted: {mostConfused[0].upper()} \\\\\\ Actual: {mostConfused[1].upper()} \\\\\\ Probability: {mostConfused[2]}\")\n",
    "        return img"
   ]
  },
  {
   "cell_type": "code",
   "execution_count": null,
   "id": "81ad137f",
   "metadata": {
    "tags": []
   },
   "outputs": [],
   "source": [
    "mc = GetMostConfused(predictions,actuals,test_image_paths) # returns an the single most confused image - the model predicted wrongly and has the highest prediction score w.r.t the image"
   ]
  },
  {
   "cell_type": "code",
   "execution_count": null,
   "id": "17354b52",
   "metadata": {
    "tags": []
   },
   "outputs": [],
   "source": [
    "ShowImage(mc) # The probability value shows how much the model believes its prediction\n",
    "plt.show()"
   ]
  },
  {
   "cell_type": "code",
   "execution_count": null,
   "id": "91a96e43-2bd5-48d5-95e1-5025bed5d67e",
   "metadata": {},
   "outputs": [],
   "source": [
    "arr1 = np.array(image.load_img(r'Data\\test\\mixed\\mixed_22.jpg', target_size=(224,224)))/255"
   ]
  },
  {
   "cell_type": "code",
   "execution_count": null,
   "id": "7728c03c-57ee-4a2b-a8fd-fb6c046e44b5",
   "metadata": {},
   "outputs": [],
   "source": [
    "model.predict(np.array([arr1]))"
   ]
  },
  {
   "cell_type": "code",
   "execution_count": null,
   "id": "6cec1942-acf5-41f5-b6ac-13f9f68d9ddb",
   "metadata": {},
   "outputs": [],
   "source": [
    "model.predict(np.array([arr2]))"
   ]
  },
  {
   "cell_type": "markdown",
   "id": "cb7197f7-24d8-4679-a6ea-1b28b0025ebb",
   "metadata": {},
   "source": [
    "<h1>xxxxxxxxxxxxxxxxxxxxxxxxxxxxxxxxxxxxxxxxxxxxxxxxxxxxxxxxx"
   ]
  },
  {
   "cell_type": "markdown",
   "id": "c9d02d25-b740-4433-be86-b06795a7742b",
   "metadata": {},
   "source": [
    "<h4> Testing"
   ]
  },
  {
   "cell_type": "code",
   "execution_count": null,
   "id": "f3d68554-681f-43d9-b493-385d58d0f4a5",
   "metadata": {},
   "outputs": [],
   "source": [
    "model1.evaluate(x=X_test,y=Y_test)"
   ]
  },
  {
   "cell_type": "code",
   "execution_count": null,
   "id": "8948a48a-130c-48f4-ab4c-15b5fac0bc94",
   "metadata": {},
   "outputs": [],
   "source": [
    "model2.evaluate(x=X_test,y=Y_test)"
   ]
  },
  {
   "cell_type": "code",
   "execution_count": null,
   "id": "bfdfd73d-a885-45b6-8c96-9babf38af722",
   "metadata": {},
   "outputs": [],
   "source": [
    "history_test3 = model3.evaluate(x=X_test,y=Y_test, return_dict=True)"
   ]
  },
  {
   "cell_type": "markdown",
   "id": "f2564b1a-10a9-43c7-9b0a-98eeedfc2eb4",
   "metadata": {},
   "source": [
    "<h4> Training and test results evaluation"
   ]
  },
  {
   "cell_type": "code",
   "execution_count": null,
   "id": "c773a792-d3f6-4a6f-b678-898764f9135b",
   "metadata": {},
   "outputs": [],
   "source": []
  },
  {
   "cell_type": "code",
   "execution_count": null,
   "id": "edb6a1f5-aab6-4958-9db4-b0e926c56b34",
   "metadata": {},
   "outputs": [],
   "source": []
  },
  {
   "cell_type": "code",
   "execution_count": null,
   "id": "5e727496-7224-4f18-a2de-5a7c43136331",
   "metadata": {},
   "outputs": [],
   "source": [
    "print_confusion_matrix(cm,prediction)"
   ]
  },
  {
   "cell_type": "code",
   "execution_count": null,
   "id": "0f76432f-ff05-4896-a2c9-a6567edf1a56",
   "metadata": {},
   "outputs": [],
   "source": [
    "fig, ax = plt.subplots(nrows=1,ncols=2,figsize=(15,6))\n",
    "sns.lineplot(data= df_train, ax= ax[0]).set(title=\"Baseline\", xlabel=\"Epochs\", ylabel=\"Loss\")\n",
    "sns.lineplot(data=\"\",ax= ax[1]).set(title=\"After Data Preprocessing\", xlabel=\"Epochs\", ylabel=\"Loss\")\n",
    "plt.suptitle(t=\"Loss Graph\")\n",
    "plt.show()"
   ]
  },
  {
   "cell_type": "code",
   "execution_count": null,
   "id": "f5841f11-5709-41a1-b2a1-2c51b75c53f7",
   "metadata": {},
   "outputs": [],
   "source": []
  }
 ],
 "metadata": {
  "kernelspec": {
   "display_name": "Python 3 (ipykernel)",
   "language": "python",
   "name": "python3"
  },
  "language_info": {
   "codemirror_mode": {
    "name": "ipython",
    "version": 3
   },
   "file_extension": ".py",
   "mimetype": "text/x-python",
   "name": "python",
   "nbconvert_exporter": "python",
   "pygments_lexer": "ipython3",
   "version": "3.9.13"
  }
 },
 "nbformat": 4,
 "nbformat_minor": 5
}
